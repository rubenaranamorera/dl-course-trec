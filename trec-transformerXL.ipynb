{
 "cells": [
  {
   "cell_type": "code",
   "execution_count": 23,
   "metadata": {},
   "outputs": [],
   "source": [
    "import pandas as pd\n",
    "from fastai import *\n",
    "from fastai.text import * "
   ]
  },
  {
   "cell_type": "code",
   "execution_count": 46,
   "metadata": {},
   "outputs": [],
   "source": [
    "DATA_PATH = './data'"
   ]
  },
  {
   "cell_type": "markdown",
   "metadata": {},
   "source": [
    "# DATA PREPARATION"
   ]
  },
  {
   "cell_type": "code",
   "execution_count": 25,
   "metadata": {},
   "outputs": [],
   "source": [
    "def prepare_csv(source, target):\n",
    "    df = pd.read_csv(source, sep= '%%%%', header=None)\n",
    "    df[['label', 'question']] = df.iloc[:,0].str.split(\":\", n = 1, expand = True) \n",
    "    df[['label_detail', 'question']] = df.question.str.split(\" \", n = 1, expand = True) \n",
    "    df = df.drop(df.columns[0], axis=1)\n",
    "    df.to_csv(target, index=False)"
   ]
  },
  {
   "cell_type": "code",
   "execution_count": 26,
   "metadata": {},
   "outputs": [
    {
     "name": "stderr",
     "output_type": "stream",
     "text": [
      "/Library/Frameworks/Python.framework/Versions/3.7/lib/python3.7/site-packages/ipykernel_launcher.py:2: ParserWarning: Falling back to the 'python' engine because the 'c' engine does not support regex separators (separators > 1 char and different from '\\s+' are interpreted as regex); you can avoid this warning by specifying engine='python'.\n",
      "  \n"
     ]
    }
   ],
   "source": [
    "prepare_csv(DATA_PATH  + '/TREC_10.label', DATA_PATH  + '/TREC_10.csv')\n",
    "prepare_csv(DATA_PATH  + '/train_5500.label', DATA_PATH  + '/train_5500.csv' )"
   ]
  },
  {
   "cell_type": "code",
   "execution_count": 27,
   "metadata": {},
   "outputs": [],
   "source": [
    "df_valid = pd.read_csv(DATA_PATH  + '/TREC_10.csv')\n",
    "df_train = pd.read_csv(DATA_PATH  + '/train_5500.csv')\n",
    "df_valid['is_valid'] = 1\n",
    "df_train['is_valid'] = 0\n",
    "df_all = pd.concat([df_valid, df_train], ignore_index=True)"
   ]
  },
  {
   "cell_type": "markdown",
   "metadata": {},
   "source": [
    "# LANGUAGE MODEL"
   ]
  },
  {
   "cell_type": "code",
   "execution_count": 28,
   "metadata": {},
   "outputs": [],
   "source": [
    "# Creating databunch with all data for language model\n",
    "databunch_lm = (\n",
    "        TextList.from_df(df=df_all, path=DATA_PATH, cols=['question'])\n",
    "            .split_by_rand_pct()\n",
    "            .label_for_lm()\n",
    "            .databunch())\n",
    "\n",
    "databunch_lm.save('databunch_lm.pkl')\n",
    "databunch_lm = load_data(DATA_PATH, fname='databunch_lm.pkl')"
   ]
  },
  {
   "cell_type": "code",
   "execution_count": 29,
   "metadata": {},
   "outputs": [],
   "source": [
    "# Creating learner with pretrained model\n",
    "language_model_learner = language_model_learner(databunch_lm, TransformerXL, drop_mult=0.05)"
   ]
  },
  {
   "cell_type": "code",
   "execution_count": 8,
   "metadata": {},
   "outputs": [
    {
     "data": {
      "text/html": [],
      "text/plain": [
       "<IPython.core.display.HTML object>"
      ]
     },
     "metadata": {},
     "output_type": "display_data"
    },
    {
     "name": "stdout",
     "output_type": "stream",
     "text": [
      "LR Finder is complete, type {learner_name}.recorder.plot() to see the graph.\n",
      "Min numerical gradient: 5.75E-04\n"
     ]
    },
    {
     "data": {
      "image/png": "[encoded data removed]",
      "text/plain": [
       "<Figure size 432x288 with 1 Axes>"
      ]
     },
     "metadata": {
      "needs_background": "light"
     },
     "output_type": "display_data"
    }
   ],
   "source": [
    "# Finding the best learning rate \n",
    "\n",
    "language_model_learner.lr_find()\n",
    "language_model_learner.recorder.plot(suggestion=True)"
   ]
  },
  {
   "cell_type": "code",
   "execution_count": 21,
   "metadata": {},
   "outputs": [],
   "source": [
    "#language_model_learner.summary()"
   ]
  },
  {
   "cell_type": "code",
   "execution_count": 30,
   "metadata": {},
   "outputs": [
    {
     "data": {
      "text/html": [
       "Total time: 1:48:53 <p><table border=\"1\" class=\"dataframe\">\n",
       "  <thead>\n",
       "    <tr style=\"text-align: left;\">\n",
       "      <th>epoch</th>\n",
       "      <th>train_loss</th>\n",
       "      <th>valid_loss</th>\n",
       "      <th>accuracy</th>\n",
       "      <th>time</th>\n",
       "    </tr>\n",
       "  </thead>\n",
       "  <tbody>\n",
       "    <tr>\n",
       "      <td>0</td>\n",
       "      <td>5.760022</td>\n",
       "      <td>4.814991</td>\n",
       "      <td>0.288783</td>\n",
       "      <td>07:18</td>\n",
       "    </tr>\n",
       "    <tr>\n",
       "      <td>1</td>\n",
       "      <td>4.927503</td>\n",
       "      <td>3.718053</td>\n",
       "      <td>0.355022</td>\n",
       "      <td>07:16</td>\n",
       "    </tr>\n",
       "    <tr>\n",
       "      <td>2</td>\n",
       "      <td>4.356023</td>\n",
       "      <td>3.326693</td>\n",
       "      <td>0.374609</td>\n",
       "      <td>07:16</td>\n",
       "    </tr>\n",
       "    <tr>\n",
       "      <td>3</td>\n",
       "      <td>3.972460</td>\n",
       "      <td>3.073159</td>\n",
       "      <td>0.437891</td>\n",
       "      <td>07:16</td>\n",
       "    </tr>\n",
       "    <tr>\n",
       "      <td>4</td>\n",
       "      <td>3.677504</td>\n",
       "      <td>2.953013</td>\n",
       "      <td>0.451562</td>\n",
       "      <td>07:15</td>\n",
       "    </tr>\n",
       "    <tr>\n",
       "      <td>5</td>\n",
       "      <td>3.436961</td>\n",
       "      <td>2.838651</td>\n",
       "      <td>0.468973</td>\n",
       "      <td>07:14</td>\n",
       "    </tr>\n",
       "    <tr>\n",
       "      <td>6</td>\n",
       "      <td>3.234573</td>\n",
       "      <td>2.759929</td>\n",
       "      <td>0.482813</td>\n",
       "      <td>07:14</td>\n",
       "    </tr>\n",
       "    <tr>\n",
       "      <td>7</td>\n",
       "      <td>3.063272</td>\n",
       "      <td>2.715398</td>\n",
       "      <td>0.487500</td>\n",
       "      <td>07:14</td>\n",
       "    </tr>\n",
       "    <tr>\n",
       "      <td>8</td>\n",
       "      <td>2.911452</td>\n",
       "      <td>2.683595</td>\n",
       "      <td>0.490513</td>\n",
       "      <td>07:14</td>\n",
       "    </tr>\n",
       "    <tr>\n",
       "      <td>9</td>\n",
       "      <td>2.772099</td>\n",
       "      <td>2.665521</td>\n",
       "      <td>0.495871</td>\n",
       "      <td>07:15</td>\n",
       "    </tr>\n",
       "    <tr>\n",
       "      <td>10</td>\n",
       "      <td>2.643321</td>\n",
       "      <td>2.659415</td>\n",
       "      <td>0.490569</td>\n",
       "      <td>07:13</td>\n",
       "    </tr>\n",
       "    <tr>\n",
       "      <td>11</td>\n",
       "      <td>2.524143</td>\n",
       "      <td>2.669265</td>\n",
       "      <td>0.494866</td>\n",
       "      <td>07:14</td>\n",
       "    </tr>\n",
       "    <tr>\n",
       "      <td>12</td>\n",
       "      <td>2.417117</td>\n",
       "      <td>2.677252</td>\n",
       "      <td>0.494085</td>\n",
       "      <td>07:15</td>\n",
       "    </tr>\n",
       "    <tr>\n",
       "      <td>13</td>\n",
       "      <td>2.324857</td>\n",
       "      <td>2.693125</td>\n",
       "      <td>0.494196</td>\n",
       "      <td>07:15</td>\n",
       "    </tr>\n",
       "    <tr>\n",
       "      <td>14</td>\n",
       "      <td>2.250981</td>\n",
       "      <td>2.679330</td>\n",
       "      <td>0.494922</td>\n",
       "      <td>07:16</td>\n",
       "    </tr>\n",
       "  </tbody>\n",
       "</table>"
      ],
      "text/plain": [
       "<IPython.core.display.HTML object>"
      ]
     },
     "metadata": {},
     "output_type": "display_data"
    }
   ],
   "source": [
    "# Training only last layer\n",
    "language_model_learner.unfreeze()\n",
    "language_model_learner.fit_one_cycle(15, 1e-3)"
   ]
  },
  {
   "cell_type": "code",
   "execution_count": 31,
   "metadata": {},
   "outputs": [],
   "source": [
    "# Saving encoder\n",
    "language_model_learner.save_encoder('encoder_transformer_xl')"
   ]
  },
  {
   "cell_type": "markdown",
   "metadata": {},
   "source": [
    "# CLASSIFIER"
   ]
  },
  {
   "cell_type": "code",
   "execution_count": 32,
   "metadata": {},
   "outputs": [],
   "source": [
    "# Creating databunch with all data for classifier using previous vocab\n",
    "databunch_classifier = (\n",
    "        TextList.from_df(df=df_all, path=DATA_PATH, cols=['question'], vocab=databunch_lm.train_ds.vocab)\n",
    "            .split_from_df(col='is_valid')\n",
    "            .label_from_df(cols='label')\n",
    "            .databunch())\n",
    "\n",
    "databunch_classifier.save('databunch_classifier.pkl')\n",
    "databunch_classifier = load_data(DATA_PATH, fname='databunch_classifier.pkl', bs=16)"
   ]
  },
  {
   "cell_type": "code",
   "execution_count": 33,
   "metadata": {},
   "outputs": [
    {
     "name": "stderr",
     "output_type": "stream",
     "text": [
      "/Library/Frameworks/Python.framework/Versions/3.7/lib/python3.7/site-packages/fastai/text/learner.py:294: UserWarning: There are no pretrained weights for that architecture yet!\n",
      "  warn(\"There are no pretrained weights for that architecture yet!\")\n"
     ]
    }
   ],
   "source": [
    "# Creating text classifier learner\n",
    "classifier_learner = text_classifier_learner(databunch_classifier, TransformerXL, drop_mult=0.05)\n",
    "classifier_learner.load_encoder('encoder_transformer_xl')"
   ]
  },
  {
   "cell_type": "code",
   "execution_count": 34,
   "metadata": {},
   "outputs": [
    {
     "data": {
      "text/html": [
       "<table border=\"1\" class=\"dataframe\">\n",
       "  <thead>\n",
       "    <tr style=\"text-align: right;\">\n",
       "      <th>text</th>\n",
       "      <th>target</th>\n",
       "    </tr>\n",
       "  </thead>\n",
       "  <tbody>\n",
       "    <tr>\n",
       "      <td>xxbos xxmaj who was named xxmaj xxunk of the xxmaj ocean xxmaj seas and xxmaj xxunk and xxmaj governor xxmaj general of all the islands he xxunk discover , and also xxunk xxunk ? ? of all xxunk of his xxunk</td>\n",
       "      <td>HUM</td>\n",
       "    </tr>\n",
       "    <tr>\n",
       "      <td>xxbos xxmaj what xxmaj french xxunk xxunk : ` ` xxmaj the jean is the xxunk ! xxmaj it is a dictator ! xxmaj it is xxunk xxunk . xxmaj the jean must be xxunk ! ''</td>\n",
       "      <td>HUM</td>\n",
       "    </tr>\n",
       "    <tr>\n",
       "      <td>xxbos xxmaj in xxmaj xxunk 's ` ` xxmaj two xxmaj years xxmaj before the xxmaj xxunk , '' what xxunk lived in an xxunk oven on the beach at xxmaj san xxmaj diego</td>\n",
       "      <td>HUM</td>\n",
       "    </tr>\n",
       "    <tr>\n",
       "      <td>xxbos xxmaj who xxunk ` ` i know '' to xxmaj xxunk xxmaj xxunk 's xxunk ` ` i love you '' in xxmaj the xxmaj empire xxmaj xxunk xxmaj back</td>\n",
       "      <td>HUM</td>\n",
       "    </tr>\n",
       "    <tr>\n",
       "      <td>xxbos xxmaj what xxup tv xxunk show left the air in 1975 to the xxunk of xxmaj xxunk xxmaj xxunk 's xxmaj we 'll xxmaj xxunk xxmaj again</td>\n",
       "      <td>ENTY</td>\n",
       "    </tr>\n",
       "  </tbody>\n",
       "</table>"
      ],
      "text/plain": [
       "<IPython.core.display.HTML object>"
      ]
     },
     "metadata": {},
     "output_type": "display_data"
    }
   ],
   "source": [
    "# Example of a batch\n",
    "databunch_classifier.show_batch()"
   ]
  },
  {
   "cell_type": "code",
   "execution_count": 35,
   "metadata": {},
   "outputs": [
    {
     "data": {
      "text/html": [],
      "text/plain": [
       "<IPython.core.display.HTML object>"
      ]
     },
     "metadata": {},
     "output_type": "display_data"
    },
    {
     "name": "stdout",
     "output_type": "stream",
     "text": [
      "LR Finder is complete, type {learner_name}.recorder.plot() to see the graph.\n",
      "Min numerical gradient: 5.75E-02\n"
     ]
    },
    {
     "data": {
      "image/png": "[encoded data removed]",
      "text/plain": [
       "<Figure size 432x288 with 1 Axes>"
      ]
     },
     "metadata": {
      "needs_background": "light"
     },
     "output_type": "display_data"
    }
   ],
   "source": [
    "# Finding learning rate\n",
    "\n",
    "classifier_learner.lr_find()\n",
    "classifier_learner.recorder.plot(suggestion=True)"
   ]
  },
  {
   "cell_type": "code",
   "execution_count": 36,
   "metadata": {},
   "outputs": [
    {
     "data": {
      "text/html": [
       "Total time: 02:42 <p><table border=\"1\" class=\"dataframe\">\n",
       "  <thead>\n",
       "    <tr style=\"text-align: left;\">\n",
       "      <th>epoch</th>\n",
       "      <th>train_loss</th>\n",
       "      <th>valid_loss</th>\n",
       "      <th>accuracy</th>\n",
       "      <th>time</th>\n",
       "    </tr>\n",
       "  </thead>\n",
       "  <tbody>\n",
       "    <tr>\n",
       "      <td>0</td>\n",
       "      <td>0.980073</td>\n",
       "      <td>0.835226</td>\n",
       "      <td>0.752000</td>\n",
       "      <td>02:42</td>\n",
       "    </tr>\n",
       "  </tbody>\n",
       "</table>"
      ],
      "text/plain": [
       "<IPython.core.display.HTML object>"
      ]
     },
     "metadata": {},
     "output_type": "display_data"
    }
   ],
   "source": [
    "# Training only last layer\n",
    "classifier_learner.fit_one_cycle(1, 1e-3)"
   ]
  },
  {
   "cell_type": "code",
   "execution_count": 37,
   "metadata": {},
   "outputs": [
    {
     "data": {
      "text/html": [],
      "text/plain": [
       "<IPython.core.display.HTML object>"
      ]
     },
     "metadata": {},
     "output_type": "display_data"
    },
    {
     "name": "stdout",
     "output_type": "stream",
     "text": [
      "LR Finder is complete, type {learner_name}.recorder.plot() to see the graph.\n",
      "Min numerical gradient: 6.31E-07\n"
     ]
    },
    {
     "data": {
      "image/png": "[encoded data removed]",
      "text/plain": [
       "<Figure size 432x288 with 1 Axes>"
      ]
     },
     "metadata": {
      "needs_background": "light"
     },
     "output_type": "display_data"
    }
   ],
   "source": [
    "# Finding the best learning rate when unfreezed\n",
    "\n",
    "classifier_learner.unfreeze()\n",
    "classifier_learner.lr_find()\n",
    "classifier_learner.recorder.plot(suggestion=True)"
   ]
  },
  {
   "cell_type": "code",
   "execution_count": 38,
   "metadata": {},
   "outputs": [
    {
     "data": {
      "text/html": [
       "Total time: 1:51:31 <p><table border=\"1\" class=\"dataframe\">\n",
       "  <thead>\n",
       "    <tr style=\"text-align: left;\">\n",
       "      <th>epoch</th>\n",
       "      <th>train_loss</th>\n",
       "      <th>valid_loss</th>\n",
       "      <th>accuracy</th>\n",
       "      <th>time</th>\n",
       "    </tr>\n",
       "  </thead>\n",
       "  <tbody>\n",
       "    <tr>\n",
       "      <td>0</td>\n",
       "      <td>0.920830</td>\n",
       "      <td>0.748438</td>\n",
       "      <td>0.798000</td>\n",
       "      <td>07:16</td>\n",
       "    </tr>\n",
       "    <tr>\n",
       "      <td>1</td>\n",
       "      <td>0.810489</td>\n",
       "      <td>0.708375</td>\n",
       "      <td>0.806000</td>\n",
       "      <td>07:29</td>\n",
       "    </tr>\n",
       "    <tr>\n",
       "      <td>2</td>\n",
       "      <td>0.726657</td>\n",
       "      <td>0.523530</td>\n",
       "      <td>0.846000</td>\n",
       "      <td>07:28</td>\n",
       "    </tr>\n",
       "    <tr>\n",
       "      <td>3</td>\n",
       "      <td>0.594130</td>\n",
       "      <td>0.433752</td>\n",
       "      <td>0.880000</td>\n",
       "      <td>07:25</td>\n",
       "    </tr>\n",
       "    <tr>\n",
       "      <td>4</td>\n",
       "      <td>0.445713</td>\n",
       "      <td>0.373838</td>\n",
       "      <td>0.880000</td>\n",
       "      <td>07:22</td>\n",
       "    </tr>\n",
       "    <tr>\n",
       "      <td>5</td>\n",
       "      <td>0.348786</td>\n",
       "      <td>0.411974</td>\n",
       "      <td>0.888000</td>\n",
       "      <td>07:36</td>\n",
       "    </tr>\n",
       "    <tr>\n",
       "      <td>6</td>\n",
       "      <td>0.231641</td>\n",
       "      <td>0.375729</td>\n",
       "      <td>0.888000</td>\n",
       "      <td>07:25</td>\n",
       "    </tr>\n",
       "    <tr>\n",
       "      <td>7</td>\n",
       "      <td>0.181997</td>\n",
       "      <td>0.350016</td>\n",
       "      <td>0.884000</td>\n",
       "      <td>07:17</td>\n",
       "    </tr>\n",
       "    <tr>\n",
       "      <td>8</td>\n",
       "      <td>0.144613</td>\n",
       "      <td>0.323190</td>\n",
       "      <td>0.906000</td>\n",
       "      <td>07:22</td>\n",
       "    </tr>\n",
       "    <tr>\n",
       "      <td>9</td>\n",
       "      <td>0.116994</td>\n",
       "      <td>0.308904</td>\n",
       "      <td>0.914000</td>\n",
       "      <td>07:25</td>\n",
       "    </tr>\n",
       "    <tr>\n",
       "      <td>10</td>\n",
       "      <td>0.088617</td>\n",
       "      <td>0.318852</td>\n",
       "      <td>0.912000</td>\n",
       "      <td>07:28</td>\n",
       "    </tr>\n",
       "    <tr>\n",
       "      <td>11</td>\n",
       "      <td>0.065177</td>\n",
       "      <td>0.324122</td>\n",
       "      <td>0.906000</td>\n",
       "      <td>07:27</td>\n",
       "    </tr>\n",
       "    <tr>\n",
       "      <td>12</td>\n",
       "      <td>0.070223</td>\n",
       "      <td>0.313287</td>\n",
       "      <td>0.912000</td>\n",
       "      <td>07:25</td>\n",
       "    </tr>\n",
       "    <tr>\n",
       "      <td>13</td>\n",
       "      <td>0.056956</td>\n",
       "      <td>0.302274</td>\n",
       "      <td>0.912000</td>\n",
       "      <td>07:24</td>\n",
       "    </tr>\n",
       "    <tr>\n",
       "      <td>14</td>\n",
       "      <td>0.064645</td>\n",
       "      <td>0.317482</td>\n",
       "      <td>0.910000</td>\n",
       "      <td>07:34</td>\n",
       "    </tr>\n",
       "  </tbody>\n",
       "</table>"
      ],
      "text/plain": [
       "<IPython.core.display.HTML object>"
      ]
     },
     "metadata": {},
     "output_type": "display_data"
    }
   ],
   "source": [
    "classifier_learner.unfreeze()\n",
    "classifier_learner.fit_one_cycle(15, slice(1e-6, 1e-4))"
   ]
  },
  {
   "cell_type": "code",
   "execution_count": 39,
   "metadata": {},
   "outputs": [],
   "source": [
    "classifier_learner.export('classifier_transformer_xl.pkl')"
   ]
  },
  {
   "cell_type": "code",
   "execution_count": 50,
   "metadata": {},
   "outputs": [],
   "source": [
    "classifier_learner = load_learner(DATA_PATH,'classifier_transformer_xl.pkl')"
   ]
  },
  {
   "cell_type": "code",
   "execution_count": 51,
   "metadata": {},
   "outputs": [
    {
     "data": {
      "text/plain": [
       "(Category NUM,\n",
       " tensor(5),\n",
       " tensor([5.1380e-03, 3.1437e-04, 5.3060e-05, 4.9104e-03, 3.5748e-04, 9.8923e-01]))"
      ]
     },
     "execution_count": 51,
     "metadata": {},
     "output_type": "execute_result"
    }
   ],
   "source": [
    "classifier_learner.predict(\"How many players are in a football field?\")\n"
   ]
  }
 ],
 "metadata": {
  "kernelspec": {
   "display_name": "Python 3",
   "language": "python",
   "name": "python3"
  },
  "language_info": {
   "codemirror_mode": {
    "name": "ipython",
    "version": 3
   },
   "file_extension": ".py",
   "mimetype": "text/x-python",
   "name": "python",
   "nbconvert_exporter": "python",
   "pygments_lexer": "ipython3",
   "version": "3.7.3"
  }
 },
 "nbformat": 4,
 "nbformat_minor": 2
}
