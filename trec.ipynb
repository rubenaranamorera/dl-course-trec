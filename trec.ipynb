{
 "cells": [
  {
   "cell_type": "code",
   "execution_count": 2,
   "metadata": {},
   "outputs": [],
   "source": [
    "import pandas as pd\n",
    "from fastai import *\n",
    "from fastai.text import * "
   ]
  },
  {
   "cell_type": "code",
   "execution_count": 3,
   "metadata": {},
   "outputs": [],
   "source": [
    "DATA_PATH = './data'"
   ]
  },
  {
   "cell_type": "markdown",
   "metadata": {},
   "source": [
    "# DATA PREPARATION"
   ]
  },
  {
   "cell_type": "code",
   "execution_count": 1,
   "metadata": {},
   "outputs": [],
   "source": [
    "def prepare_csv(source, target):\n",
    "    df = pd.read_csv(source, sep= '%%%%', header=None)\n",
    "    df[['label', 'question']] = df.iloc[:,0].str.split(\":\", n = 1, expand = True) \n",
    "    df[['label_detail', 'question']] = df.question.str.split(\" \", n = 1, expand = True) \n",
    "    df = df.drop(df.columns[0], axis=1)\n",
    "    df.to_csv(target, index=False)"
   ]
  },
  {
   "cell_type": "code",
   "execution_count": 4,
   "metadata": {},
   "outputs": [
    {
     "name": "stderr",
     "output_type": "stream",
     "text": [
      "/Library/Frameworks/Python.framework/Versions/3.7/lib/python3.7/site-packages/ipykernel_launcher.py:2: ParserWarning: Falling back to the 'python' engine because the 'c' engine does not support regex separators (separators > 1 char and different from '\\s+' are interpreted as regex); you can avoid this warning by specifying engine='python'.\n",
      "  \n"
     ]
    }
   ],
   "source": [
    "prepare_csv(DATA_PATH  + '/TREC_10.label', DATA_PATH  + '/TREC_10.csv')\n",
    "prepare_csv(DATA_PATH  + '/train_5500.label', DATA_PATH  + '/train_5500.csv' )"
   ]
  },
  {
   "cell_type": "code",
   "execution_count": 4,
   "metadata": {},
   "outputs": [],
   "source": [
    "df_valid = pd.read_csv(DATA_PATH  + '/TREC_10.csv')\n",
    "df_train = pd.read_csv(DATA_PATH  + '/train_5500.csv')\n",
    "df_valid['is_valid'] = 1\n",
    "df_train['is_valid'] = 0\n",
    "df_all = pd.concat([df_valid, df_train], ignore_index=True)"
   ]
  },
  {
   "cell_type": "code",
   "execution_count": 5,
   "metadata": {},
   "outputs": [
    {
     "data": {
      "text/html": [
       "<div>\n",
       "<style scoped>\n",
       "    .dataframe tbody tr th:only-of-type {\n",
       "        vertical-align: middle;\n",
       "    }\n",
       "\n",
       "    .dataframe tbody tr th {\n",
       "        vertical-align: top;\n",
       "    }\n",
       "\n",
       "    .dataframe thead th {\n",
       "        text-align: right;\n",
       "    }\n",
       "</style>\n",
       "<table border=\"1\" class=\"dataframe\">\n",
       "  <thead>\n",
       "    <tr style=\"text-align: right;\">\n",
       "      <th></th>\n",
       "      <th>label</th>\n",
       "      <th>question</th>\n",
       "      <th>label_detail</th>\n",
       "      <th>is_valid</th>\n",
       "    </tr>\n",
       "  </thead>\n",
       "  <tbody>\n",
       "    <tr>\n",
       "      <th>0</th>\n",
       "      <td>NUM</td>\n",
       "      <td>How far is it from Denver to Aspen ?</td>\n",
       "      <td>dist</td>\n",
       "      <td>1</td>\n",
       "    </tr>\n",
       "    <tr>\n",
       "      <th>1</th>\n",
       "      <td>LOC</td>\n",
       "      <td>What county is Modesto , California in ?</td>\n",
       "      <td>city</td>\n",
       "      <td>1</td>\n",
       "    </tr>\n",
       "    <tr>\n",
       "      <th>2</th>\n",
       "      <td>HUM</td>\n",
       "      <td>Who was Galileo ?</td>\n",
       "      <td>desc</td>\n",
       "      <td>1</td>\n",
       "    </tr>\n",
       "    <tr>\n",
       "      <th>3</th>\n",
       "      <td>DESC</td>\n",
       "      <td>What is an atom ?</td>\n",
       "      <td>def</td>\n",
       "      <td>1</td>\n",
       "    </tr>\n",
       "    <tr>\n",
       "      <th>4</th>\n",
       "      <td>NUM</td>\n",
       "      <td>When did Hawaii become a state ?</td>\n",
       "      <td>date</td>\n",
       "      <td>1</td>\n",
       "    </tr>\n",
       "    <tr>\n",
       "      <th>5</th>\n",
       "      <td>NUM</td>\n",
       "      <td>How tall is the Sears Building ?</td>\n",
       "      <td>dist</td>\n",
       "      <td>1</td>\n",
       "    </tr>\n",
       "    <tr>\n",
       "      <th>6</th>\n",
       "      <td>HUM</td>\n",
       "      <td>George Bush purchased a small interest in whic...</td>\n",
       "      <td>gr</td>\n",
       "      <td>1</td>\n",
       "    </tr>\n",
       "    <tr>\n",
       "      <th>7</th>\n",
       "      <td>ENTY</td>\n",
       "      <td>What is Australia 's national flower ?</td>\n",
       "      <td>plant</td>\n",
       "      <td>1</td>\n",
       "    </tr>\n",
       "    <tr>\n",
       "      <th>8</th>\n",
       "      <td>DESC</td>\n",
       "      <td>Why does the moon turn orange ?</td>\n",
       "      <td>reason</td>\n",
       "      <td>1</td>\n",
       "    </tr>\n",
       "    <tr>\n",
       "      <th>9</th>\n",
       "      <td>DESC</td>\n",
       "      <td>What is autism ?</td>\n",
       "      <td>def</td>\n",
       "      <td>1</td>\n",
       "    </tr>\n",
       "    <tr>\n",
       "      <th>10</th>\n",
       "      <td>LOC</td>\n",
       "      <td>What city had a world fair in 1900 ?</td>\n",
       "      <td>city</td>\n",
       "      <td>1</td>\n",
       "    </tr>\n",
       "    <tr>\n",
       "      <th>11</th>\n",
       "      <td>HUM</td>\n",
       "      <td>What person 's head is on a dime ?</td>\n",
       "      <td>ind</td>\n",
       "      <td>1</td>\n",
       "    </tr>\n",
       "    <tr>\n",
       "      <th>12</th>\n",
       "      <td>NUM</td>\n",
       "      <td>What is the average weight of a Yellow Labrador ?</td>\n",
       "      <td>weight</td>\n",
       "      <td>1</td>\n",
       "    </tr>\n",
       "    <tr>\n",
       "      <th>13</th>\n",
       "      <td>HUM</td>\n",
       "      <td>Who was the first man to fly across the Pacifi...</td>\n",
       "      <td>ind</td>\n",
       "      <td>1</td>\n",
       "    </tr>\n",
       "    <tr>\n",
       "      <th>14</th>\n",
       "      <td>NUM</td>\n",
       "      <td>When did Idaho become a state ?</td>\n",
       "      <td>date</td>\n",
       "      <td>1</td>\n",
       "    </tr>\n",
       "    <tr>\n",
       "      <th>15</th>\n",
       "      <td>NUM</td>\n",
       "      <td>What is the life expectancy for crickets ?</td>\n",
       "      <td>other</td>\n",
       "      <td>1</td>\n",
       "    </tr>\n",
       "    <tr>\n",
       "      <th>16</th>\n",
       "      <td>ENTY</td>\n",
       "      <td>What metal has the highest melting point ?</td>\n",
       "      <td>substance</td>\n",
       "      <td>1</td>\n",
       "    </tr>\n",
       "    <tr>\n",
       "      <th>17</th>\n",
       "      <td>HUM</td>\n",
       "      <td>Who developed the vaccination against polio ?</td>\n",
       "      <td>ind</td>\n",
       "      <td>1</td>\n",
       "    </tr>\n",
       "    <tr>\n",
       "      <th>18</th>\n",
       "      <td>DESC</td>\n",
       "      <td>What is epilepsy ?</td>\n",
       "      <td>def</td>\n",
       "      <td>1</td>\n",
       "    </tr>\n",
       "    <tr>\n",
       "      <th>19</th>\n",
       "      <td>NUM</td>\n",
       "      <td>What year did the Titanic sink ?</td>\n",
       "      <td>date</td>\n",
       "      <td>1</td>\n",
       "    </tr>\n",
       "    <tr>\n",
       "      <th>20</th>\n",
       "      <td>HUM</td>\n",
       "      <td>Who was the first American to walk in space ?</td>\n",
       "      <td>ind</td>\n",
       "      <td>1</td>\n",
       "    </tr>\n",
       "    <tr>\n",
       "      <th>21</th>\n",
       "      <td>DESC</td>\n",
       "      <td>What is a biosphere ?</td>\n",
       "      <td>def</td>\n",
       "      <td>1</td>\n",
       "    </tr>\n",
       "    <tr>\n",
       "      <th>22</th>\n",
       "      <td>LOC</td>\n",
       "      <td>What river in the US is known as the Big Muddy ?</td>\n",
       "      <td>other</td>\n",
       "      <td>1</td>\n",
       "    </tr>\n",
       "    <tr>\n",
       "      <th>23</th>\n",
       "      <td>DESC</td>\n",
       "      <td>What is bipolar disorder ?</td>\n",
       "      <td>def</td>\n",
       "      <td>1</td>\n",
       "    </tr>\n",
       "    <tr>\n",
       "      <th>24</th>\n",
       "      <td>DESC</td>\n",
       "      <td>What is cholesterol ?</td>\n",
       "      <td>def</td>\n",
       "      <td>1</td>\n",
       "    </tr>\n",
       "    <tr>\n",
       "      <th>25</th>\n",
       "      <td>HUM</td>\n",
       "      <td>Who developed the Macintosh computer ?</td>\n",
       "      <td>ind</td>\n",
       "      <td>1</td>\n",
       "    </tr>\n",
       "    <tr>\n",
       "      <th>26</th>\n",
       "      <td>DESC</td>\n",
       "      <td>What is caffeine ?</td>\n",
       "      <td>def</td>\n",
       "      <td>1</td>\n",
       "    </tr>\n",
       "    <tr>\n",
       "      <th>27</th>\n",
       "      <td>LOC</td>\n",
       "      <td>What imaginary line is halfway between the Nor...</td>\n",
       "      <td>other</td>\n",
       "      <td>1</td>\n",
       "    </tr>\n",
       "    <tr>\n",
       "      <th>28</th>\n",
       "      <td>LOC</td>\n",
       "      <td>Where is John Wayne airport ?</td>\n",
       "      <td>other</td>\n",
       "      <td>1</td>\n",
       "    </tr>\n",
       "    <tr>\n",
       "      <th>29</th>\n",
       "      <td>LOC</td>\n",
       "      <td>What hemisphere is the Philippines in ?</td>\n",
       "      <td>other</td>\n",
       "      <td>1</td>\n",
       "    </tr>\n",
       "    <tr>\n",
       "      <th>...</th>\n",
       "      <td>...</td>\n",
       "      <td>...</td>\n",
       "      <td>...</td>\n",
       "      <td>...</td>\n",
       "    </tr>\n",
       "    <tr>\n",
       "      <th>5922</th>\n",
       "      <td>DESC</td>\n",
       "      <td>How do I legally make my own will and testament ?</td>\n",
       "      <td>manner</td>\n",
       "      <td>0</td>\n",
       "    </tr>\n",
       "    <tr>\n",
       "      <th>5923</th>\n",
       "      <td>DESC</td>\n",
       "      <td>How do you make the color purple ?</td>\n",
       "      <td>manner</td>\n",
       "      <td>0</td>\n",
       "    </tr>\n",
       "    <tr>\n",
       "      <th>5924</th>\n",
       "      <td>ENTY</td>\n",
       "      <td>What beer 's name is translated as `` lion bre...</td>\n",
       "      <td>food</td>\n",
       "      <td>0</td>\n",
       "    </tr>\n",
       "    <tr>\n",
       "      <th>5925</th>\n",
       "      <td>HUM</td>\n",
       "      <td>What has been the most common Christian name o...</td>\n",
       "      <td>ind</td>\n",
       "      <td>0</td>\n",
       "    </tr>\n",
       "    <tr>\n",
       "      <th>5926</th>\n",
       "      <td>NUM</td>\n",
       "      <td>How many cherubs are there on a Trivial Pursui...</td>\n",
       "      <td>count</td>\n",
       "      <td>0</td>\n",
       "    </tr>\n",
       "    <tr>\n",
       "      <th>5927</th>\n",
       "      <td>DESC</td>\n",
       "      <td>How can I search for a word within my own webp...</td>\n",
       "      <td>manner</td>\n",
       "      <td>0</td>\n",
       "    </tr>\n",
       "    <tr>\n",
       "      <th>5928</th>\n",
       "      <td>NUM</td>\n",
       "      <td>How many people live in Chile ?</td>\n",
       "      <td>count</td>\n",
       "      <td>0</td>\n",
       "    </tr>\n",
       "    <tr>\n",
       "      <th>5929</th>\n",
       "      <td>ENTY</td>\n",
       "      <td>What sport do the Cleaveland Cavaliers play ?</td>\n",
       "      <td>sport</td>\n",
       "      <td>0</td>\n",
       "    </tr>\n",
       "    <tr>\n",
       "      <th>5930</th>\n",
       "      <td>LOC</td>\n",
       "      <td>What European country 's monarchy was restored...</td>\n",
       "      <td>country</td>\n",
       "      <td>0</td>\n",
       "    </tr>\n",
       "    <tr>\n",
       "      <th>5931</th>\n",
       "      <td>DESC</td>\n",
       "      <td>Why are sometimes your hands cold , but the re...</td>\n",
       "      <td>reason</td>\n",
       "      <td>0</td>\n",
       "    </tr>\n",
       "    <tr>\n",
       "      <th>5932</th>\n",
       "      <td>HUM</td>\n",
       "      <td>What English explorer discovered and named Vir...</td>\n",
       "      <td>ind</td>\n",
       "      <td>0</td>\n",
       "    </tr>\n",
       "    <tr>\n",
       "      <th>5933</th>\n",
       "      <td>ENTY</td>\n",
       "      <td>What war added jeep and quisling to the Englis...</td>\n",
       "      <td>event</td>\n",
       "      <td>0</td>\n",
       "    </tr>\n",
       "    <tr>\n",
       "      <th>5934</th>\n",
       "      <td>LOC</td>\n",
       "      <td>What country is home to Heineken beer ?</td>\n",
       "      <td>country</td>\n",
       "      <td>0</td>\n",
       "    </tr>\n",
       "    <tr>\n",
       "      <th>5935</th>\n",
       "      <td>HUM</td>\n",
       "      <td>What people make up half the Soviet Union 's p...</td>\n",
       "      <td>gr</td>\n",
       "      <td>0</td>\n",
       "    </tr>\n",
       "    <tr>\n",
       "      <th>5936</th>\n",
       "      <td>ENTY</td>\n",
       "      <td>What money was used here ?</td>\n",
       "      <td>currency</td>\n",
       "      <td>0</td>\n",
       "    </tr>\n",
       "    <tr>\n",
       "      <th>5937</th>\n",
       "      <td>NUM</td>\n",
       "      <td>When did Charles Lindbergh die ?</td>\n",
       "      <td>date</td>\n",
       "      <td>0</td>\n",
       "    </tr>\n",
       "    <tr>\n",
       "      <th>5938</th>\n",
       "      <td>NUM</td>\n",
       "      <td>How many athletes did Puerto Rico enter in the...</td>\n",
       "      <td>count</td>\n",
       "      <td>0</td>\n",
       "    </tr>\n",
       "    <tr>\n",
       "      <th>5939</th>\n",
       "      <td>LOC</td>\n",
       "      <td>What is the highest continent ?</td>\n",
       "      <td>other</td>\n",
       "      <td>0</td>\n",
       "    </tr>\n",
       "    <tr>\n",
       "      <th>5940</th>\n",
       "      <td>HUM</td>\n",
       "      <td>Who used to make cars with rotary engines ?</td>\n",
       "      <td>gr</td>\n",
       "      <td>0</td>\n",
       "    </tr>\n",
       "    <tr>\n",
       "      <th>5941</th>\n",
       "      <td>DESC</td>\n",
       "      <td>What are my legal rights in an automobile repo...</td>\n",
       "      <td>desc</td>\n",
       "      <td>0</td>\n",
       "    </tr>\n",
       "    <tr>\n",
       "      <th>5942</th>\n",
       "      <td>DESC</td>\n",
       "      <td>What is the meaning of caliente , in English , ?</td>\n",
       "      <td>def</td>\n",
       "      <td>0</td>\n",
       "    </tr>\n",
       "    <tr>\n",
       "      <th>5943</th>\n",
       "      <td>LOC</td>\n",
       "      <td>Where can I find information on becoming a jou...</td>\n",
       "      <td>other</td>\n",
       "      <td>0</td>\n",
       "    </tr>\n",
       "    <tr>\n",
       "      <th>5944</th>\n",
       "      <td>ENTY</td>\n",
       "      <td>What did Jack exchange with the butcher for a ...</td>\n",
       "      <td>other</td>\n",
       "      <td>0</td>\n",
       "    </tr>\n",
       "    <tr>\n",
       "      <th>5945</th>\n",
       "      <td>LOC</td>\n",
       "      <td>In what city does Maurizio Pellegrin now live ?</td>\n",
       "      <td>city</td>\n",
       "      <td>0</td>\n",
       "    </tr>\n",
       "    <tr>\n",
       "      <th>5946</th>\n",
       "      <td>HUM</td>\n",
       "      <td>Who was Buffalo Bill ?</td>\n",
       "      <td>desc</td>\n",
       "      <td>0</td>\n",
       "    </tr>\n",
       "    <tr>\n",
       "      <th>5947</th>\n",
       "      <td>ENTY</td>\n",
       "      <td>What 's the shape of a camel 's spine ?</td>\n",
       "      <td>other</td>\n",
       "      <td>0</td>\n",
       "    </tr>\n",
       "    <tr>\n",
       "      <th>5948</th>\n",
       "      <td>ENTY</td>\n",
       "      <td>What type of currency is used in China ?</td>\n",
       "      <td>currency</td>\n",
       "      <td>0</td>\n",
       "    </tr>\n",
       "    <tr>\n",
       "      <th>5949</th>\n",
       "      <td>NUM</td>\n",
       "      <td>What is the temperature today ?</td>\n",
       "      <td>temp</td>\n",
       "      <td>0</td>\n",
       "    </tr>\n",
       "    <tr>\n",
       "      <th>5950</th>\n",
       "      <td>NUM</td>\n",
       "      <td>What is the temperature for cooking ?</td>\n",
       "      <td>temp</td>\n",
       "      <td>0</td>\n",
       "    </tr>\n",
       "    <tr>\n",
       "      <th>5951</th>\n",
       "      <td>ENTY</td>\n",
       "      <td>What currency is used in Australia ?</td>\n",
       "      <td>currency</td>\n",
       "      <td>0</td>\n",
       "    </tr>\n",
       "  </tbody>\n",
       "</table>\n",
       "<p>5952 rows × 4 columns</p>\n",
       "</div>"
      ],
      "text/plain": [
       "     label                                           question label_detail  \\\n",
       "0      NUM               How far is it from Denver to Aspen ?         dist   \n",
       "1      LOC           What county is Modesto , California in ?         city   \n",
       "2      HUM                                  Who was Galileo ?         desc   \n",
       "3     DESC                                  What is an atom ?          def   \n",
       "4      NUM                   When did Hawaii become a state ?         date   \n",
       "5      NUM                   How tall is the Sears Building ?         dist   \n",
       "6      HUM  George Bush purchased a small interest in whic...           gr   \n",
       "7     ENTY             What is Australia 's national flower ?        plant   \n",
       "8     DESC                    Why does the moon turn orange ?       reason   \n",
       "9     DESC                                   What is autism ?          def   \n",
       "10     LOC               What city had a world fair in 1900 ?         city   \n",
       "11     HUM                 What person 's head is on a dime ?          ind   \n",
       "12     NUM  What is the average weight of a Yellow Labrador ?       weight   \n",
       "13     HUM  Who was the first man to fly across the Pacifi...          ind   \n",
       "14     NUM                    When did Idaho become a state ?         date   \n",
       "15     NUM         What is the life expectancy for crickets ?        other   \n",
       "16    ENTY         What metal has the highest melting point ?    substance   \n",
       "17     HUM      Who developed the vaccination against polio ?          ind   \n",
       "18    DESC                                 What is epilepsy ?          def   \n",
       "19     NUM                   What year did the Titanic sink ?         date   \n",
       "20     HUM      Who was the first American to walk in space ?          ind   \n",
       "21    DESC                              What is a biosphere ?          def   \n",
       "22     LOC   What river in the US is known as the Big Muddy ?        other   \n",
       "23    DESC                         What is bipolar disorder ?          def   \n",
       "24    DESC                              What is cholesterol ?          def   \n",
       "25     HUM             Who developed the Macintosh computer ?          ind   \n",
       "26    DESC                                 What is caffeine ?          def   \n",
       "27     LOC  What imaginary line is halfway between the Nor...        other   \n",
       "28     LOC                      Where is John Wayne airport ?        other   \n",
       "29     LOC            What hemisphere is the Philippines in ?        other   \n",
       "...    ...                                                ...          ...   \n",
       "5922  DESC  How do I legally make my own will and testament ?       manner   \n",
       "5923  DESC                 How do you make the color purple ?       manner   \n",
       "5924  ENTY  What beer 's name is translated as `` lion bre...         food   \n",
       "5925   HUM  What has been the most common Christian name o...          ind   \n",
       "5926   NUM  How many cherubs are there on a Trivial Pursui...        count   \n",
       "5927  DESC  How can I search for a word within my own webp...       manner   \n",
       "5928   NUM                    How many people live in Chile ?        count   \n",
       "5929  ENTY      What sport do the Cleaveland Cavaliers play ?        sport   \n",
       "5930   LOC  What European country 's monarchy was restored...      country   \n",
       "5931  DESC  Why are sometimes your hands cold , but the re...       reason   \n",
       "5932   HUM  What English explorer discovered and named Vir...          ind   \n",
       "5933  ENTY  What war added jeep and quisling to the Englis...        event   \n",
       "5934   LOC            What country is home to Heineken beer ?      country   \n",
       "5935   HUM  What people make up half the Soviet Union 's p...           gr   \n",
       "5936  ENTY                         What money was used here ?     currency   \n",
       "5937   NUM                   When did Charles Lindbergh die ?         date   \n",
       "5938   NUM  How many athletes did Puerto Rico enter in the...        count   \n",
       "5939   LOC                    What is the highest continent ?        other   \n",
       "5940   HUM        Who used to make cars with rotary engines ?           gr   \n",
       "5941  DESC  What are my legal rights in an automobile repo...         desc   \n",
       "5942  DESC   What is the meaning of caliente , in English , ?          def   \n",
       "5943   LOC  Where can I find information on becoming a jou...        other   \n",
       "5944  ENTY  What did Jack exchange with the butcher for a ...        other   \n",
       "5945   LOC    In what city does Maurizio Pellegrin now live ?         city   \n",
       "5946   HUM                             Who was Buffalo Bill ?         desc   \n",
       "5947  ENTY            What 's the shape of a camel 's spine ?        other   \n",
       "5948  ENTY           What type of currency is used in China ?     currency   \n",
       "5949   NUM                    What is the temperature today ?         temp   \n",
       "5950   NUM              What is the temperature for cooking ?         temp   \n",
       "5951  ENTY               What currency is used in Australia ?     currency   \n",
       "\n",
       "      is_valid  \n",
       "0            1  \n",
       "1            1  \n",
       "2            1  \n",
       "3            1  \n",
       "4            1  \n",
       "5            1  \n",
       "6            1  \n",
       "7            1  \n",
       "8            1  \n",
       "9            1  \n",
       "10           1  \n",
       "11           1  \n",
       "12           1  \n",
       "13           1  \n",
       "14           1  \n",
       "15           1  \n",
       "16           1  \n",
       "17           1  \n",
       "18           1  \n",
       "19           1  \n",
       "20           1  \n",
       "21           1  \n",
       "22           1  \n",
       "23           1  \n",
       "24           1  \n",
       "25           1  \n",
       "26           1  \n",
       "27           1  \n",
       "28           1  \n",
       "29           1  \n",
       "...        ...  \n",
       "5922         0  \n",
       "5923         0  \n",
       "5924         0  \n",
       "5925         0  \n",
       "5926         0  \n",
       "5927         0  \n",
       "5928         0  \n",
       "5929         0  \n",
       "5930         0  \n",
       "5931         0  \n",
       "5932         0  \n",
       "5933         0  \n",
       "5934         0  \n",
       "5935         0  \n",
       "5936         0  \n",
       "5937         0  \n",
       "5938         0  \n",
       "5939         0  \n",
       "5940         0  \n",
       "5941         0  \n",
       "5942         0  \n",
       "5943         0  \n",
       "5944         0  \n",
       "5945         0  \n",
       "5946         0  \n",
       "5947         0  \n",
       "5948         0  \n",
       "5949         0  \n",
       "5950         0  \n",
       "5951         0  \n",
       "\n",
       "[5952 rows x 4 columns]"
      ]
     },
     "execution_count": 5,
     "metadata": {},
     "output_type": "execute_result"
    }
   ],
   "source": [
    "df_all"
   ]
  },
  {
   "cell_type": "markdown",
   "metadata": {},
   "source": [
    "# LANGUAGE MODEL"
   ]
  },
  {
   "cell_type": "code",
   "execution_count": 6,
   "metadata": {},
   "outputs": [],
   "source": [
    "# Creating databunch with all data for language model\n",
    "databunch_lm = (\n",
    "        TextList.from_df(df=df_all, path=DATA_PATH, cols=['question'])\n",
    "            .split_by_rand_pct()\n",
    "            .label_for_lm()\n",
    "            .databunch())\n",
    "\n",
    "databunch_lm.save('databunch_lm.pkl')\n",
    "databunch_lm = load_data(DATA_PATH, fname='databunch_lm.pkl')"
   ]
  },
  {
   "cell_type": "code",
   "execution_count": 7,
   "metadata": {},
   "outputs": [
    {
     "name": "stderr",
     "output_type": "stream",
     "text": [
      "/Library/Frameworks/Python.framework/Versions/3.7/lib/python3.7/site-packages/fastai/datasets.py:164: YAMLLoadWarning: calling yaml.load() without Loader=... is deprecated, as the default Loader is unsafe. Please read https://msg.pyyaml.org/load for full details.\n",
      "  with open(fpath, 'r') as yaml_file: return yaml.load(yaml_file)\n"
     ]
    }
   ],
   "source": [
    "# Creating learner with pretrained model\n",
    "language_model_learner = language_model_learner(databunch_lm, AWD_LSTM, drop_mult=0.5)"
   ]
  },
  {
   "cell_type": "code",
   "execution_count": 8,
   "metadata": {},
   "outputs": [
    {
     "data": {
      "text/html": [],
      "text/plain": [
       "<IPython.core.display.HTML object>"
      ]
     },
     "metadata": {},
     "output_type": "display_data"
    },
    {
     "name": "stdout",
     "output_type": "stream",
     "text": [
      "LR Finder is complete, type {learner_name}.recorder.plot() to see the graph.\n",
      "Min numerical gradient: 6.31E-02\n"
     ]
    },
    {
     "data": {
      "image/png": "[encoded data removed]",
      "text/plain": [
       "<Figure size 432x288 with 1 Axes>"
      ]
     },
     "metadata": {
      "needs_background": "light"
     },
     "output_type": "display_data"
    }
   ],
   "source": [
    "# Finding the best learning rate \n",
    "\n",
    "# language_model_learner.lr_find(1e-4, 10,50)\n",
    "# language_model_learner.recorder.plot(suggestion=True)"
   ]
  },
  {
   "cell_type": "code",
   "execution_count": 9,
   "metadata": {},
   "outputs": [
    {
     "data": {
      "text/html": [
       "Total time: 01:42 <p><table border=\"1\" class=\"dataframe\">\n",
       "  <thead>\n",
       "    <tr style=\"text-align: left;\">\n",
       "      <th>epoch</th>\n",
       "      <th>train_loss</th>\n",
       "      <th>valid_loss</th>\n",
       "      <th>accuracy</th>\n",
       "      <th>time</th>\n",
       "    </tr>\n",
       "  </thead>\n",
       "  <tbody>\n",
       "    <tr>\n",
       "      <td>0</td>\n",
       "      <td>4.072760</td>\n",
       "      <td>3.169302</td>\n",
       "      <td>0.444420</td>\n",
       "      <td>01:42</td>\n",
       "    </tr>\n",
       "  </tbody>\n",
       "</table>"
      ],
      "text/plain": [
       "<IPython.core.display.HTML object>"
      ]
     },
     "metadata": {},
     "output_type": "display_data"
    }
   ],
   "source": [
    "# Training only last layer\n",
    "language_model_learner.fit_one_cycle(1, 3e-1)"
   ]
  },
  {
   "cell_type": "code",
   "execution_count": 10,
   "metadata": {},
   "outputs": [
    {
     "data": {
      "text/html": [],
      "text/plain": [
       "<IPython.core.display.HTML object>"
      ]
     },
     "metadata": {},
     "output_type": "display_data"
    },
    {
     "name": "stdout",
     "output_type": "stream",
     "text": [
      "LR Finder is complete, type {learner_name}.recorder.plot() to see the graph.\n",
      "Min numerical gradient: 1.00E-03\n"
     ]
    },
    {
     "data": {
      "image/png": "[encoded data removed]",
      "text/plain": [
       "<Figure size 432x288 with 1 Axes>"
      ]
     },
     "metadata": {
      "needs_background": "light"
     },
     "output_type": "display_data"
    }
   ],
   "source": [
    "# Finding the best learning rate when unfreezed\n",
    "\n",
    "# language_model_learner.unfreeze()\n",
    "# language_model_learner.lr_find(1e-4, 10)\n",
    "# language_model_learner.recorder.plot(suggestion=True)"
   ]
  },
  {
   "cell_type": "code",
   "execution_count": 11,
   "metadata": {},
   "outputs": [
    {
     "data": {
      "text/html": [
       "Total time: 11:16 <p><table border=\"1\" class=\"dataframe\">\n",
       "  <thead>\n",
       "    <tr style=\"text-align: left;\">\n",
       "      <th>epoch</th>\n",
       "      <th>train_loss</th>\n",
       "      <th>valid_loss</th>\n",
       "      <th>accuracy</th>\n",
       "      <th>time</th>\n",
       "    </tr>\n",
       "  </thead>\n",
       "  <tbody>\n",
       "    <tr>\n",
       "      <td>0</td>\n",
       "      <td>3.144612</td>\n",
       "      <td>2.737103</td>\n",
       "      <td>0.471261</td>\n",
       "      <td>03:45</td>\n",
       "    </tr>\n",
       "    <tr>\n",
       "      <td>1</td>\n",
       "      <td>2.857237</td>\n",
       "      <td>2.557020</td>\n",
       "      <td>0.502623</td>\n",
       "      <td>03:47</td>\n",
       "    </tr>\n",
       "    <tr>\n",
       "      <td>2</td>\n",
       "      <td>2.640059</td>\n",
       "      <td>2.520906</td>\n",
       "      <td>0.512835</td>\n",
       "      <td>03:43</td>\n",
       "    </tr>\n",
       "  </tbody>\n",
       "</table>"
      ],
      "text/plain": [
       "<IPython.core.display.HTML object>"
      ]
     },
     "metadata": {},
     "output_type": "display_data"
    }
   ],
   "source": [
    "# Unfreezing and training all layers\n",
    "language_model_learner.unfreeze()\n",
    "language_model_learner.fit_one_cycle(4, 1e-2)"
   ]
  },
  {
   "cell_type": "code",
   "execution_count": 12,
   "metadata": {},
   "outputs": [],
   "source": [
    "# Saving encoder\n",
    "language_model_learner.save_encoder('encoder')"
   ]
  },
  {
   "cell_type": "markdown",
   "metadata": {},
   "source": [
    "# CLASSIFIER"
   ]
  },
  {
   "cell_type": "code",
   "execution_count": 22,
   "metadata": {},
   "outputs": [],
   "source": [
    "# Creating databunch with all data for classifier using previous vocab\n",
    "databunch_classifier = (\n",
    "        TextList.from_df(df=df_all, path=DATA_PATH, cols=['question'], vocab=databunch_lm.train_ds.vocab)\n",
    "            .split_from_df(col='is_valid')\n",
    "            .label_from_df(cols='label')\n",
    "            .databunch())\n",
    "\n",
    "databunch_classifier.save('databunch_classifier.pkl')\n",
    "databunch_classifier = load_data(DATA_PATH, fname='databunch_classifier.pkl', bs=16)"
   ]
  },
  {
   "cell_type": "code",
   "execution_count": 23,
   "metadata": {},
   "outputs": [
    {
     "name": "stderr",
     "output_type": "stream",
     "text": [
      "/Library/Frameworks/Python.framework/Versions/3.7/lib/python3.7/site-packages/fastai/datasets.py:164: YAMLLoadWarning: calling yaml.load() without Loader=... is deprecated, as the default Loader is unsafe. Please read https://msg.pyyaml.org/load for full details.\n",
      "  with open(fpath, 'r') as yaml_file: return yaml.load(yaml_file)\n"
     ]
    }
   ],
   "source": [
    "# Creating text classifier learner\n",
    "classifier_learner = text_classifier_learner(databunch_classifier, AWD_LSTM, drop_mult=0.3)\n",
    "classifier_learner.load_encoder('encoder')"
   ]
  },
  {
   "cell_type": "code",
   "execution_count": 24,
   "metadata": {},
   "outputs": [
    {
     "data": {
      "text/html": [
       "<table border=\"1\" class=\"dataframe\">\n",
       "  <thead>\n",
       "    <tr style=\"text-align: right;\">\n",
       "      <th>text</th>\n",
       "      <th>target</th>\n",
       "    </tr>\n",
       "  </thead>\n",
       "  <tbody>\n",
       "    <tr>\n",
       "      <td>xxbos xxmaj who was named xxmaj xxunk of the xxmaj ocean xxmaj xxunk and xxmaj xxunk and xxmaj governor xxmaj general of all the islands he xxunk discover , and also xxunk xxunk ? ? of all xxunk of his xxunk</td>\n",
       "      <td>HUM</td>\n",
       "    </tr>\n",
       "    <tr>\n",
       "      <td>xxbos xxmaj who is the director of the international group called the xxmaj human xxmaj xxunk xxmaj organization , xxup hugo , that is xxunk to xxunk gene - xxunk research worldwide</td>\n",
       "      <td>HUM</td>\n",
       "    </tr>\n",
       "    <tr>\n",
       "      <td>xxbos xxmaj what is the name of the xxunk xxunk xxunk disease which xxunk the xxunk xxunk that xxunk xxunk xxunk xxunk a xxunk xxunk of xxunk in the body</td>\n",
       "      <td>ENTY</td>\n",
       "    </tr>\n",
       "    <tr>\n",
       "      <td>xxbos xxmaj where is it xxunk to xxunk the xxunk ship , xxmaj xxunk xxmaj xxunk , which xxmaj xxunk xxmaj xxunk xxunk are xxunk into a xxunk museum</td>\n",
       "      <td>LOC</td>\n",
       "    </tr>\n",
       "    <tr>\n",
       "      <td>xxbos xxmaj how much xxunk is the new xxunk carbon material invented by the xxmaj tokyo xxmaj institute of xxmaj xxunk compared with the material made from xxunk</td>\n",
       "      <td>NUM</td>\n",
       "    </tr>\n",
       "  </tbody>\n",
       "</table>"
      ],
      "text/plain": [
       "<IPython.core.display.HTML object>"
      ]
     },
     "metadata": {},
     "output_type": "display_data"
    }
   ],
   "source": [
    "# Example of a batch\n",
    "databunch_classifier.show_batch()"
   ]
  },
  {
   "cell_type": "code",
   "execution_count": 16,
   "metadata": {},
   "outputs": [
    {
     "data": {
      "text/html": [],
      "text/plain": [
       "<IPython.core.display.HTML object>"
      ]
     },
     "metadata": {},
     "output_type": "display_data"
    },
    {
     "name": "stdout",
     "output_type": "stream",
     "text": [
      "LR Finder is complete, type {learner_name}.recorder.plot() to see the graph.\n",
      "Min numerical gradient: 2.51E-03\n"
     ]
    },
    {
     "data": {
      "image/png": "[encoded data removed]",
      "text/plain": [
       "<Figure size 432x288 with 1 Axes>"
      ]
     },
     "metadata": {
      "needs_background": "light"
     },
     "output_type": "display_data"
    }
   ],
   "source": [
    "# Finding learning rate\n",
    "\n",
    "# classifier_learner.lr_find(1e-3, 10)\n",
    "# classifier_learner.recorder.plot(suggestion=True)"
   ]
  },
  {
   "cell_type": "code",
   "execution_count": 25,
   "metadata": {},
   "outputs": [
    {
     "data": {
      "text/html": [
       "Total time: 03:32 <p><table border=\"1\" class=\"dataframe\">\n",
       "  <thead>\n",
       "    <tr style=\"text-align: left;\">\n",
       "      <th>epoch</th>\n",
       "      <th>train_loss</th>\n",
       "      <th>valid_loss</th>\n",
       "      <th>accuracy</th>\n",
       "      <th>time</th>\n",
       "    </tr>\n",
       "  </thead>\n",
       "  <tbody>\n",
       "    <tr>\n",
       "      <td>0</td>\n",
       "      <td>0.881712</td>\n",
       "      <td>0.542160</td>\n",
       "      <td>0.796000</td>\n",
       "      <td>03:32</td>\n",
       "    </tr>\n",
       "  </tbody>\n",
       "</table>"
      ],
      "text/plain": [
       "<IPython.core.display.HTML object>"
      ]
     },
     "metadata": {},
     "output_type": "display_data"
    }
   ],
   "source": [
    "# Training only last layer\n",
    "classifier_learner.fit_one_cycle(1, 1e-2)"
   ]
  },
  {
   "cell_type": "code",
   "execution_count": 18,
   "metadata": {},
   "outputs": [
    {
     "data": {
      "text/html": [],
      "text/plain": [
       "<IPython.core.display.HTML object>"
      ]
     },
     "metadata": {},
     "output_type": "display_data"
    },
    {
     "name": "stdout",
     "output_type": "stream",
     "text": [
      "LR Finder is complete, type {learner_name}.recorder.plot() to see the graph.\n",
      "Min numerical gradient: 6.03E-05\n"
     ]
    },
    {
     "data": {
      "image/png": "[encoded data removed]",
      "text/plain": [
       "<Figure size 432x288 with 1 Axes>"
      ]
     },
     "metadata": {
      "needs_background": "light"
     },
     "output_type": "display_data"
    }
   ],
   "source": [
    "# Finding the best learning rate when freezed to -2\n",
    "\n",
    "# classifier_learner.freeze_to(-2)\n",
    "# classifier_learner.lr_find(1e-6, 10)\n",
    "# classifier_learner.recorder.plot(suggestion=True)"
   ]
  },
  {
   "cell_type": "code",
   "execution_count": 26,
   "metadata": {},
   "outputs": [
    {
     "data": {
      "text/html": [
       "Total time: 04:23 <p><table border=\"1\" class=\"dataframe\">\n",
       "  <thead>\n",
       "    <tr style=\"text-align: left;\">\n",
       "      <th>epoch</th>\n",
       "      <th>train_loss</th>\n",
       "      <th>valid_loss</th>\n",
       "      <th>accuracy</th>\n",
       "      <th>time</th>\n",
       "    </tr>\n",
       "  </thead>\n",
       "  <tbody>\n",
       "    <tr>\n",
       "      <td>0</td>\n",
       "      <td>0.819890</td>\n",
       "      <td>0.512707</td>\n",
       "      <td>0.804000</td>\n",
       "      <td>04:23</td>\n",
       "    </tr>\n",
       "  </tbody>\n",
       "</table>"
      ],
      "text/plain": [
       "<IPython.core.display.HTML object>"
      ]
     },
     "metadata": {},
     "output_type": "display_data"
    }
   ],
   "source": [
    "# Training only last 2 layers\n",
    "\n",
    "classifier_learner.freeze_to(-2)\n",
    "classifier_learner.fit_one_cycle(1, slice(1e-5, 1e-3))"
   ]
  },
  {
   "cell_type": "code",
   "execution_count": 20,
   "metadata": {},
   "outputs": [
    {
     "data": {
      "text/html": [],
      "text/plain": [
       "<IPython.core.display.HTML object>"
      ]
     },
     "metadata": {},
     "output_type": "display_data"
    },
    {
     "name": "stdout",
     "output_type": "stream",
     "text": [
      "LR Finder is complete, type {learner_name}.recorder.plot() to see the graph.\n",
      "Min numerical gradient: 6.31E-07\n"
     ]
    },
    {
     "data": {
      "image/png": "[encoded data removed]",
      "text/plain": [
       "<Figure size 432x288 with 1 Axes>"
      ]
     },
     "metadata": {
      "needs_background": "light"
     },
     "output_type": "display_data"
    }
   ],
   "source": [
    "# Finding the best learning rate when unfreezed\n",
    "\n",
    "# classifier_learner.unfreeze()\n",
    "# classifier_learner.lr_find(1e-7, 10)\n",
    "# classifier_learner.recorder.plot(suggestion=True)"
   ]
  },
  {
   "cell_type": "code",
   "execution_count": 27,
   "metadata": {},
   "outputs": [
    {
     "data": {
      "text/html": [
       "Total time: 1:23:03 <p><table border=\"1\" class=\"dataframe\">\n",
       "  <thead>\n",
       "    <tr style=\"text-align: left;\">\n",
       "      <th>epoch</th>\n",
       "      <th>train_loss</th>\n",
       "      <th>valid_loss</th>\n",
       "      <th>accuracy</th>\n",
       "      <th>time</th>\n",
       "    </tr>\n",
       "  </thead>\n",
       "  <tbody>\n",
       "    <tr>\n",
       "      <td>0</td>\n",
       "      <td>0.726060</td>\n",
       "      <td>0.492940</td>\n",
       "      <td>0.830000</td>\n",
       "      <td>13:15</td>\n",
       "    </tr>\n",
       "    <tr>\n",
       "      <td>1</td>\n",
       "      <td>0.730668</td>\n",
       "      <td>0.491750</td>\n",
       "      <td>0.810000</td>\n",
       "      <td>13:55</td>\n",
       "    </tr>\n",
       "    <tr>\n",
       "      <td>2</td>\n",
       "      <td>0.688882</td>\n",
       "      <td>0.469450</td>\n",
       "      <td>0.826000</td>\n",
       "      <td>14:09</td>\n",
       "    </tr>\n",
       "    <tr>\n",
       "      <td>3</td>\n",
       "      <td>0.697103</td>\n",
       "      <td>0.457963</td>\n",
       "      <td>0.824000</td>\n",
       "      <td>14:20</td>\n",
       "    </tr>\n",
       "    <tr>\n",
       "      <td>4</td>\n",
       "      <td>0.714403</td>\n",
       "      <td>0.439669</td>\n",
       "      <td>0.836000</td>\n",
       "      <td>13:32</td>\n",
       "    </tr>\n",
       "    <tr>\n",
       "      <td>5</td>\n",
       "      <td>0.712503</td>\n",
       "      <td>0.452026</td>\n",
       "      <td>0.824000</td>\n",
       "      <td>13:49</td>\n",
       "    </tr>\n",
       "  </tbody>\n",
       "</table>"
      ],
      "text/plain": [
       "<IPython.core.display.HTML object>"
      ]
     },
     "metadata": {},
     "output_type": "display_data"
    }
   ],
   "source": [
    "classifier_learner.unfreeze()\n",
    "classifier_learner.fit_one_cycle(6, slice(1e-6, 1e-4))"
   ]
  },
  {
   "cell_type": "code",
   "execution_count": 28,
   "metadata": {},
   "outputs": [],
   "source": [
    "classifier_learner.export()"
   ]
  },
  {
   "cell_type": "code",
   "execution_count": 29,
   "metadata": {},
   "outputs": [],
   "source": [
    "classifier_learner = load_learner(DATA_PATH)"
   ]
  },
  {
   "cell_type": "code",
   "execution_count": 30,
   "metadata": {},
   "outputs": [
    {
     "data": {
      "text/plain": [
       "(Category NUM,\n",
       " tensor(5),\n",
       " tensor([2.4393e-04, 2.2416e-02, 2.3997e-03, 4.4937e-04, 6.2155e-04, 9.7387e-01]))"
      ]
     },
     "execution_count": 30,
     "metadata": {},
     "output_type": "execute_result"
    }
   ],
   "source": [
    "classifier_learner.predict(\"How many players are in a football field?\")\n"
   ]
  }
 ],
 "metadata": {
  "kernelspec": {
   "display_name": "Python 3",
   "language": "python",
   "name": "python3"
  },
  "language_info": {
   "codemirror_mode": {
    "name": "ipython",
    "version": 3
   },
   "file_extension": ".py",
   "mimetype": "text/x-python",
   "name": "python",
   "nbconvert_exporter": "python",
   "pygments_lexer": "ipython3",
   "version": "3.7.3"
  }
 },
 "nbformat": 4,
 "nbformat_minor": 2
}
