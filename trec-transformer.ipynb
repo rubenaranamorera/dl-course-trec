{
 "cells": [
  {
   "cell_type": "code",
   "execution_count": 1,
   "metadata": {},
   "outputs": [],
   "source": [
    "import pandas as pd\n",
    "from fastai import *\n",
    "from fastai.text import * "
   ]
  },
  {
   "cell_type": "code",
   "execution_count": 2,
   "metadata": {},
   "outputs": [],
   "source": [
    "DATA_PATH = './data'"
   ]
  },
  {
   "cell_type": "markdown",
   "metadata": {},
   "source": [
    "# DATA PREPARATION"
   ]
  },
  {
   "cell_type": "code",
   "execution_count": 3,
   "metadata": {},
   "outputs": [],
   "source": [
    "def prepare_csv(source, target):\n",
    "    df = pd.read_csv(source, sep= '%%%%', header=None)\n",
    "    df[['label', 'question']] = df.iloc[:,0].str.split(\":\", n = 1, expand = True) \n",
    "    df[['label_detail', 'question']] = df.question.str.split(\" \", n = 1, expand = True) \n",
    "    df = df.drop(df.columns[0], axis=1)\n",
    "    df.to_csv(target, index=False)"
   ]
  },
  {
   "cell_type": "code",
   "execution_count": 4,
   "metadata": {},
   "outputs": [
    {
     "name": "stderr",
     "output_type": "stream",
     "text": [
      "/Library/Frameworks/Python.framework/Versions/3.7/lib/python3.7/site-packages/ipykernel_launcher.py:2: ParserWarning: Falling back to the 'python' engine because the 'c' engine does not support regex separators (separators > 1 char and different from '\\s+' are interpreted as regex); you can avoid this warning by specifying engine='python'.\n",
      "  \n"
     ]
    }
   ],
   "source": [
    "prepare_csv(DATA_PATH  + '/TREC_10.label', DATA_PATH  + '/TREC_10.csv')\n",
    "prepare_csv(DATA_PATH  + '/train_5500.label', DATA_PATH  + '/train_5500.csv' )"
   ]
  },
  {
   "cell_type": "code",
   "execution_count": 5,
   "metadata": {},
   "outputs": [],
   "source": [
    "df_valid = pd.read_csv(DATA_PATH  + '/TREC_10.csv')\n",
    "df_train = pd.read_csv(DATA_PATH  + '/train_5500.csv')\n",
    "df_valid['is_valid'] = 1\n",
    "df_train['is_valid'] = 0\n",
    "df_all = pd.concat([df_valid, df_train], ignore_index=True)"
   ]
  },
  {
   "cell_type": "markdown",
   "metadata": {},
   "source": [
    "# LANGUAGE MODEL"
   ]
  },
  {
   "cell_type": "code",
   "execution_count": 6,
   "metadata": {},
   "outputs": [],
   "source": [
    "# Creating databunch with all data for language model\n",
    "databunch_lm = (\n",
    "        TextList.from_df(df=df_all, path=DATA_PATH, cols=['question'])\n",
    "            .split_by_rand_pct()\n",
    "            .label_for_lm()\n",
    "            .databunch())\n",
    "\n",
    "databunch_lm.save('databunch_lm.pkl')\n",
    "databunch_lm = load_data(DATA_PATH, fname='databunch_lm.pkl')"
   ]
  },
  {
   "cell_type": "code",
   "execution_count": 7,
   "metadata": {},
   "outputs": [],
   "source": [
    "# Creating learner with pretrained model\n",
    "language_model_learner = language_model_learner(databunch_lm, Transformer, drop_mult=0.05)"
   ]
  },
  {
   "cell_type": "code",
   "execution_count": 8,
   "metadata": {},
   "outputs": [
    {
     "data": {
      "text/html": [],
      "text/plain": [
       "<IPython.core.display.HTML object>"
      ]
     },
     "metadata": {},
     "output_type": "display_data"
    },
    {
     "name": "stdout",
     "output_type": "stream",
     "text": [
      "LR Finder is complete, type {learner_name}.recorder.plot() to see the graph.\n",
      "Min numerical gradient: 1.58E-02\n"
     ]
    },
    {
     "data": {
      "image/png": "[encoded data removed]",
      "text/plain": [
       "<Figure size 432x288 with 1 Axes>"
      ]
     },
     "metadata": {
      "needs_background": "light"
     },
     "output_type": "display_data"
    }
   ],
   "source": [
    "# Finding the best learning rate \n",
    "\n",
    "# language_model_learner.lr_find()\n",
    "# language_model_learner.recorder.plot(suggestion=True)"
   ]
  },
  {
   "cell_type": "code",
   "execution_count": 9,
   "metadata": {},
   "outputs": [
    {
     "data": {
      "text/plain": [
       "======================================================================\n",
       "Layer (type)         Output Shape         Param #    Trainable \n",
       "======================================================================\n",
       "Embedding            [70, 768]            1,486,080  True      \n",
       "______________________________________________________________________\n",
       "Embedding            [768]                393,216    True      \n",
       "______________________________________________________________________\n",
       "Dropout              [70, 768]            0          False     \n",
       "______________________________________________________________________\n",
       "Linear               [70, 2304]           1,771,776  False     \n",
       "______________________________________________________________________\n",
       "Linear               [70, 768]            590,592    False     \n",
       "______________________________________________________________________\n",
       "Dropout              [12, 70, 70]         0          False     \n",
       "______________________________________________________________________\n",
       "Dropout              [70, 768]            0          False     \n",
       "______________________________________________________________________\n",
       "LayerNorm            [70, 768]            1,536      False     \n",
       "______________________________________________________________________\n",
       "Linear               [70, 3072]           2,362,368  False     \n",
       "______________________________________________________________________\n",
       "GeLU                 [70, 3072]           0          False     \n",
       "______________________________________________________________________\n",
       "Linear               [70, 768]            2,360,064  False     \n",
       "______________________________________________________________________\n",
       "Dropout              [70, 768]            0          False     \n",
       "______________________________________________________________________\n",
       "MergeLayer           [70, 768]            0          False     \n",
       "______________________________________________________________________\n",
       "LayerNorm            [70, 768]            1,536      False     \n",
       "______________________________________________________________________\n",
       "Linear               [70, 2304]           1,771,776  False     \n",
       "______________________________________________________________________\n",
       "Linear               [70, 768]            590,592    False     \n",
       "______________________________________________________________________\n",
       "Dropout              [12, 70, 70]         0          False     \n",
       "______________________________________________________________________\n",
       "Dropout              [70, 768]            0          False     \n",
       "______________________________________________________________________\n",
       "LayerNorm            [70, 768]            1,536      False     \n",
       "______________________________________________________________________\n",
       "Linear               [70, 3072]           2,362,368  False     \n",
       "______________________________________________________________________\n",
       "GeLU                 [70, 3072]           0          False     \n",
       "______________________________________________________________________\n",
       "Linear               [70, 768]            2,360,064  False     \n",
       "______________________________________________________________________\n",
       "Dropout              [70, 768]            0          False     \n",
       "______________________________________________________________________\n",
       "MergeLayer           [70, 768]            0          False     \n",
       "______________________________________________________________________\n",
       "LayerNorm            [70, 768]            1,536      False     \n",
       "______________________________________________________________________\n",
       "Linear               [70, 2304]           1,771,776  False     \n",
       "______________________________________________________________________\n",
       "Linear               [70, 768]            590,592    False     \n",
       "______________________________________________________________________\n",
       "Dropout              [12, 70, 70]         0          False     \n",
       "______________________________________________________________________\n",
       "Dropout              [70, 768]            0          False     \n",
       "______________________________________________________________________\n",
       "LayerNorm            [70, 768]            1,536      False     \n",
       "______________________________________________________________________\n",
       "Linear               [70, 3072]           2,362,368  False     \n",
       "______________________________________________________________________\n",
       "GeLU                 [70, 3072]           0          False     \n",
       "______________________________________________________________________\n",
       "Linear               [70, 768]            2,360,064  False     \n",
       "______________________________________________________________________\n",
       "Dropout              [70, 768]            0          False     \n",
       "______________________________________________________________________\n",
       "MergeLayer           [70, 768]            0          False     \n",
       "______________________________________________________________________\n",
       "LayerNorm            [70, 768]            1,536      False     \n",
       "______________________________________________________________________\n",
       "Linear               [70, 2304]           1,771,776  False     \n",
       "______________________________________________________________________\n",
       "Linear               [70, 768]            590,592    False     \n",
       "______________________________________________________________________\n",
       "Dropout              [12, 70, 70]         0          False     \n",
       "______________________________________________________________________\n",
       "Dropout              [70, 768]            0          False     \n",
       "______________________________________________________________________\n",
       "LayerNorm            [70, 768]            1,536      False     \n",
       "______________________________________________________________________\n",
       "Linear               [70, 3072]           2,362,368  False     \n",
       "______________________________________________________________________\n",
       "GeLU                 [70, 3072]           0          False     \n",
       "______________________________________________________________________\n",
       "Linear               [70, 768]            2,360,064  False     \n",
       "______________________________________________________________________\n",
       "Dropout              [70, 768]            0          False     \n",
       "______________________________________________________________________\n",
       "MergeLayer           [70, 768]            0          False     \n",
       "______________________________________________________________________\n",
       "LayerNorm            [70, 768]            1,536      False     \n",
       "______________________________________________________________________\n",
       "Linear               [70, 2304]           1,771,776  False     \n",
       "______________________________________________________________________\n",
       "Linear               [70, 768]            590,592    False     \n",
       "______________________________________________________________________\n",
       "Dropout              [12, 70, 70]         0          False     \n",
       "______________________________________________________________________\n",
       "Dropout              [70, 768]            0          False     \n",
       "______________________________________________________________________\n",
       "LayerNorm            [70, 768]            1,536      False     \n",
       "______________________________________________________________________\n",
       "Linear               [70, 3072]           2,362,368  False     \n",
       "______________________________________________________________________\n",
       "GeLU                 [70, 3072]           0          False     \n",
       "______________________________________________________________________\n",
       "Linear               [70, 768]            2,360,064  False     \n",
       "______________________________________________________________________\n",
       "Dropout              [70, 768]            0          False     \n",
       "______________________________________________________________________\n",
       "MergeLayer           [70, 768]            0          False     \n",
       "______________________________________________________________________\n",
       "LayerNorm            [70, 768]            1,536      False     \n",
       "______________________________________________________________________\n",
       "Linear               [70, 2304]           1,771,776  False     \n",
       "______________________________________________________________________\n",
       "Linear               [70, 768]            590,592    False     \n",
       "______________________________________________________________________\n",
       "Dropout              [12, 70, 70]         0          False     \n",
       "______________________________________________________________________\n",
       "Dropout              [70, 768]            0          False     \n",
       "______________________________________________________________________\n",
       "LayerNorm            [70, 768]            1,536      False     \n",
       "______________________________________________________________________\n",
       "Linear               [70, 3072]           2,362,368  False     \n",
       "______________________________________________________________________\n",
       "GeLU                 [70, 3072]           0          False     \n",
       "______________________________________________________________________\n",
       "Linear               [70, 768]            2,360,064  False     \n",
       "______________________________________________________________________\n",
       "Dropout              [70, 768]            0          False     \n",
       "______________________________________________________________________\n",
       "MergeLayer           [70, 768]            0          False     \n",
       "______________________________________________________________________\n",
       "LayerNorm            [70, 768]            1,536      False     \n",
       "______________________________________________________________________\n",
       "Linear               [70, 2304]           1,771,776  False     \n",
       "______________________________________________________________________\n",
       "Linear               [70, 768]            590,592    False     \n",
       "______________________________________________________________________\n",
       "Dropout              [12, 70, 70]         0          False     \n",
       "______________________________________________________________________\n",
       "Dropout              [70, 768]            0          False     \n",
       "______________________________________________________________________\n",
       "LayerNorm            [70, 768]            1,536      False     \n",
       "______________________________________________________________________\n",
       "Linear               [70, 3072]           2,362,368  False     \n",
       "______________________________________________________________________\n",
       "GeLU                 [70, 3072]           0          False     \n",
       "______________________________________________________________________\n",
       "Linear               [70, 768]            2,360,064  False     \n",
       "______________________________________________________________________\n",
       "Dropout              [70, 768]            0          False     \n",
       "______________________________________________________________________\n",
       "MergeLayer           [70, 768]            0          False     \n",
       "______________________________________________________________________\n",
       "LayerNorm            [70, 768]            1,536      False     \n",
       "______________________________________________________________________\n",
       "Linear               [70, 2304]           1,771,776  False     \n",
       "______________________________________________________________________\n",
       "Linear               [70, 768]            590,592    False     \n",
       "______________________________________________________________________\n",
       "Dropout              [12, 70, 70]         0          False     \n",
       "______________________________________________________________________\n",
       "Dropout              [70, 768]            0          False     \n",
       "______________________________________________________________________\n",
       "LayerNorm            [70, 768]            1,536      False     \n",
       "______________________________________________________________________\n",
       "Linear               [70, 3072]           2,362,368  False     \n",
       "______________________________________________________________________\n",
       "GeLU                 [70, 3072]           0          False     \n",
       "______________________________________________________________________\n",
       "Linear               [70, 768]            2,360,064  False     \n",
       "______________________________________________________________________\n",
       "Dropout              [70, 768]            0          False     \n",
       "______________________________________________________________________\n",
       "MergeLayer           [70, 768]            0          False     \n",
       "______________________________________________________________________\n",
       "LayerNorm            [70, 768]            1,536      False     \n",
       "______________________________________________________________________\n",
       "Linear               [70, 2304]           1,771,776  False     \n",
       "______________________________________________________________________\n",
       "Linear               [70, 768]            590,592    False     \n",
       "______________________________________________________________________\n",
       "Dropout              [12, 70, 70]         0          False     \n",
       "______________________________________________________________________\n",
       "Dropout              [70, 768]            0          False     \n",
       "______________________________________________________________________\n",
       "LayerNorm            [70, 768]            1,536      False     \n",
       "______________________________________________________________________\n",
       "Linear               [70, 3072]           2,362,368  False     \n",
       "______________________________________________________________________\n",
       "GeLU                 [70, 3072]           0          False     \n",
       "______________________________________________________________________\n",
       "Linear               [70, 768]            2,360,064  False     \n",
       "______________________________________________________________________\n",
       "Dropout              [70, 768]            0          False     \n",
       "______________________________________________________________________\n",
       "MergeLayer           [70, 768]            0          False     \n",
       "______________________________________________________________________\n",
       "LayerNorm            [70, 768]            1,536      False     \n",
       "______________________________________________________________________\n",
       "Linear               [70, 2304]           1,771,776  False     \n",
       "______________________________________________________________________\n",
       "Linear               [70, 768]            590,592    False     \n",
       "______________________________________________________________________\n",
       "Dropout              [12, 70, 70]         0          False     \n",
       "______________________________________________________________________\n",
       "Dropout              [70, 768]            0          False     \n",
       "______________________________________________________________________\n",
       "LayerNorm            [70, 768]            1,536      False     \n",
       "______________________________________________________________________\n",
       "Linear               [70, 3072]           2,362,368  False     \n",
       "______________________________________________________________________\n",
       "GeLU                 [70, 3072]           0          False     \n",
       "______________________________________________________________________\n",
       "Linear               [70, 768]            2,360,064  False     \n",
       "______________________________________________________________________\n",
       "Dropout              [70, 768]            0          False     \n",
       "______________________________________________________________________\n",
       "MergeLayer           [70, 768]            0          False     \n",
       "______________________________________________________________________\n",
       "LayerNorm            [70, 768]            1,536      False     \n",
       "______________________________________________________________________\n",
       "Linear               [70, 2304]           1,771,776  False     \n",
       "______________________________________________________________________\n",
       "Linear               [70, 768]            590,592    False     \n",
       "______________________________________________________________________\n",
       "Dropout              [12, 70, 70]         0          False     \n",
       "______________________________________________________________________\n",
       "Dropout              [70, 768]            0          False     \n",
       "______________________________________________________________________\n",
       "LayerNorm            [70, 768]            1,536      False     \n",
       "______________________________________________________________________\n",
       "Linear               [70, 3072]           2,362,368  False     \n",
       "______________________________________________________________________\n",
       "GeLU                 [70, 3072]           0          False     \n",
       "______________________________________________________________________\n",
       "Linear               [70, 768]            2,360,064  False     \n",
       "______________________________________________________________________\n",
       "Dropout              [70, 768]            0          False     \n",
       "______________________________________________________________________\n",
       "MergeLayer           [70, 768]            0          False     \n",
       "______________________________________________________________________\n",
       "LayerNorm            [70, 768]            1,536      False     \n",
       "______________________________________________________________________\n",
       "Linear               [70, 2304]           1,771,776  False     \n",
       "______________________________________________________________________\n",
       "Linear               [70, 768]            590,592    False     \n",
       "______________________________________________________________________\n",
       "Dropout              [12, 70, 70]         0          False     \n",
       "______________________________________________________________________\n",
       "Dropout              [70, 768]            0          False     \n",
       "______________________________________________________________________\n",
       "LayerNorm            [70, 768]            1,536      False     \n",
       "______________________________________________________________________\n",
       "Linear               [70, 3072]           2,362,368  False     \n",
       "______________________________________________________________________\n",
       "GeLU                 [70, 3072]           0          False     \n",
       "______________________________________________________________________\n",
       "Linear               [70, 768]            2,360,064  False     \n",
       "______________________________________________________________________\n",
       "Dropout              [70, 768]            0          False     \n",
       "______________________________________________________________________\n",
       "MergeLayer           [70, 768]            0          False     \n",
       "______________________________________________________________________\n",
       "LayerNorm            [70, 768]            1,536      False     \n",
       "______________________________________________________________________\n",
       "Linear               [70, 1935]           1,486,080  True      \n",
       "______________________________________________________________________\n",
       "RNNDropout           [70, 768]            0          False     \n",
       "______________________________________________________________________\n",
       "\n",
       "Total params: 88,419,840\n",
       "Total trainable params: 3,365,376\n",
       "Total non-trainable params: 85,054,464"
      ]
     },
     "execution_count": 9,
     "metadata": {},
     "output_type": "execute_result"
    }
   ],
   "source": [
    "language_model_learner.summary()"
   ]
  },
  {
   "cell_type": "code",
   "execution_count": 10,
   "metadata": {},
   "outputs": [
    {
     "data": {
      "text/html": [
       "Total time: 09:11 <p><table border=\"1\" class=\"dataframe\">\n",
       "  <thead>\n",
       "    <tr style=\"text-align: left;\">\n",
       "      <th>epoch</th>\n",
       "      <th>train_loss</th>\n",
       "      <th>valid_loss</th>\n",
       "      <th>accuracy</th>\n",
       "      <th>time</th>\n",
       "    </tr>\n",
       "  </thead>\n",
       "  <tbody>\n",
       "    <tr>\n",
       "      <td>0</td>\n",
       "      <td>6.291127</td>\n",
       "      <td>4.527550</td>\n",
       "      <td>0.232143</td>\n",
       "      <td>09:11</td>\n",
       "    </tr>\n",
       "  </tbody>\n",
       "</table>"
      ],
      "text/plain": [
       "<IPython.core.display.HTML object>"
      ]
     },
     "metadata": {},
     "output_type": "display_data"
    }
   ],
   "source": [
    "# Training only last layer\n",
    "language_model_learner.fit_one_cycle(1, 2e-2)"
   ]
  },
  {
   "cell_type": "code",
   "execution_count": 12,
   "metadata": {},
   "outputs": [
    {
     "data": {
      "text/html": [],
      "text/plain": [
       "<IPython.core.display.HTML object>"
      ]
     },
     "metadata": {},
     "output_type": "display_data"
    },
    {
     "name": "stdout",
     "output_type": "stream",
     "text": [
      "LR Finder is complete, type {learner_name}.recorder.plot() to see the graph.\n",
      "Min numerical gradient: 1.58E-04\n"
     ]
    },
    {
     "data": {
      "image/png": "[encoded data removed]",
      "text/plain": [
       "<Figure size 432x288 with 1 Axes>"
      ]
     },
     "metadata": {
      "needs_background": "light"
     },
     "output_type": "display_data"
    }
   ],
   "source": [
    "# Finding the best learning rate when unfreezed\n",
    "\n",
    "# language_model_learner.unfreeze()\n",
    "# language_model_learner.lr_find()\n",
    "# language_model_learner.recorder.plot(suggestion=True)"
   ]
  },
  {
   "cell_type": "code",
   "execution_count": 14,
   "metadata": {},
   "outputs": [
    {
     "data": {
      "text/html": [
       "Total time: 54:09 <p><table border=\"1\" class=\"dataframe\">\n",
       "  <thead>\n",
       "    <tr style=\"text-align: left;\">\n",
       "      <th>epoch</th>\n",
       "      <th>train_loss</th>\n",
       "      <th>valid_loss</th>\n",
       "      <th>accuracy</th>\n",
       "      <th>time</th>\n",
       "    </tr>\n",
       "  </thead>\n",
       "  <tbody>\n",
       "    <tr>\n",
       "      <td>0</td>\n",
       "      <td>4.007821</td>\n",
       "      <td>3.470712</td>\n",
       "      <td>0.391183</td>\n",
       "      <td>11:09</td>\n",
       "    </tr>\n",
       "    <tr>\n",
       "      <td>1</td>\n",
       "      <td>3.732893</td>\n",
       "      <td>3.201761</td>\n",
       "      <td>0.427902</td>\n",
       "      <td>10:45</td>\n",
       "    </tr>\n",
       "    <tr>\n",
       "      <td>2</td>\n",
       "      <td>3.491808</td>\n",
       "      <td>2.955190</td>\n",
       "      <td>0.467690</td>\n",
       "      <td>10:46</td>\n",
       "    </tr>\n",
       "    <tr>\n",
       "      <td>3</td>\n",
       "      <td>3.307531</td>\n",
       "      <td>2.877581</td>\n",
       "      <td>0.477344</td>\n",
       "      <td>10:43</td>\n",
       "    </tr>\n",
       "    <tr>\n",
       "      <td>4</td>\n",
       "      <td>3.169737</td>\n",
       "      <td>2.857398</td>\n",
       "      <td>0.478739</td>\n",
       "      <td>10:43</td>\n",
       "    </tr>\n",
       "  </tbody>\n",
       "</table>"
      ],
      "text/plain": [
       "<IPython.core.display.HTML object>"
      ]
     },
     "metadata": {},
     "output_type": "display_data"
    }
   ],
   "source": [
    "# Unfreezing and training all layers\n",
    "language_model_learner.unfreeze()\n",
    "language_model_learner.fit_one_cycle(5, 5e-4)"
   ]
  },
  {
   "cell_type": "code",
   "execution_count": 15,
   "metadata": {},
   "outputs": [
    {
     "data": {
      "text/html": [
       "Total time: 53:39 <p><table border=\"1\" class=\"dataframe\">\n",
       "  <thead>\n",
       "    <tr style=\"text-align: left;\">\n",
       "      <th>epoch</th>\n",
       "      <th>train_loss</th>\n",
       "      <th>valid_loss</th>\n",
       "      <th>accuracy</th>\n",
       "      <th>time</th>\n",
       "    </tr>\n",
       "  </thead>\n",
       "  <tbody>\n",
       "    <tr>\n",
       "      <td>0</td>\n",
       "      <td>2.880779</td>\n",
       "      <td>2.849455</td>\n",
       "      <td>0.480525</td>\n",
       "      <td>10:41</td>\n",
       "    </tr>\n",
       "    <tr>\n",
       "      <td>1</td>\n",
       "      <td>2.864721</td>\n",
       "      <td>2.830786</td>\n",
       "      <td>0.483482</td>\n",
       "      <td>10:42</td>\n",
       "    </tr>\n",
       "    <tr>\n",
       "      <td>2</td>\n",
       "      <td>2.841345</td>\n",
       "      <td>2.810249</td>\n",
       "      <td>0.485826</td>\n",
       "      <td>10:43</td>\n",
       "    </tr>\n",
       "    <tr>\n",
       "      <td>3</td>\n",
       "      <td>2.814003</td>\n",
       "      <td>2.797354</td>\n",
       "      <td>0.487500</td>\n",
       "      <td>10:49</td>\n",
       "    </tr>\n",
       "    <tr>\n",
       "      <td>4</td>\n",
       "      <td>2.791276</td>\n",
       "      <td>2.797007</td>\n",
       "      <td>0.487946</td>\n",
       "      <td>10:43</td>\n",
       "    </tr>\n",
       "  </tbody>\n",
       "</table>"
      ],
      "text/plain": [
       "<IPython.core.display.HTML object>"
      ]
     },
     "metadata": {},
     "output_type": "display_data"
    }
   ],
   "source": [
    "language_model_learner.fit_one_cycle(5, 5e-5)"
   ]
  },
  {
   "cell_type": "code",
   "execution_count": 16,
   "metadata": {},
   "outputs": [],
   "source": [
    "# Saving encoder\n",
    "language_model_learner.save_encoder('encoder_transformer')"
   ]
  },
  {
   "cell_type": "markdown",
   "metadata": {},
   "source": [
    "# CLASSIFIER"
   ]
  },
  {
   "cell_type": "code",
   "execution_count": 17,
   "metadata": {},
   "outputs": [],
   "source": [
    "# Creating databunch with all data for classifier using previous vocab\n",
    "databunch_classifier = (\n",
    "        TextList.from_df(df=df_all, path=DATA_PATH, cols=['question'], vocab=databunch_lm.train_ds.vocab)\n",
    "            .split_from_df(col='is_valid')\n",
    "            .label_from_df(cols='label')\n",
    "            .databunch())\n",
    "\n",
    "databunch_classifier.save('databunch_classifier.pkl')\n",
    "databunch_classifier = load_data(DATA_PATH, fname='databunch_classifier.pkl', bs=16)"
   ]
  },
  {
   "cell_type": "code",
   "execution_count": 18,
   "metadata": {},
   "outputs": [],
   "source": [
    "# Creating text classifier learner\n",
    "classifier_learner = text_classifier_learner(databunch_classifier, Transformer, drop_mult=0.05)\n",
    "classifier_learner.load_encoder('encoder_transformer')"
   ]
  },
  {
   "cell_type": "code",
   "execution_count": 19,
   "metadata": {},
   "outputs": [
    {
     "data": {
      "text/html": [
       "<table border=\"1\" class=\"dataframe\">\n",
       "  <thead>\n",
       "    <tr style=\"text-align: right;\">\n",
       "      <th>text</th>\n",
       "      <th>target</th>\n",
       "    </tr>\n",
       "  </thead>\n",
       "  <tbody>\n",
       "    <tr>\n",
       "      <td>xxbos xxmaj who was named xxmaj xxunk of the xxmaj ocean xxmaj seas and xxmaj xxunk and xxmaj governor xxmaj general of all the islands he xxunk discover , and also xxunk xxunk ? ? of all xxunk of his xxunk</td>\n",
       "      <td>HUM</td>\n",
       "    </tr>\n",
       "    <tr>\n",
       "      <td>xxbos xxmaj what year is xxunk on the xxmaj gold xxmaj xxunk of xxmaj xxunk from the xxmaj xxunk xxmaj xxunk xxunk on a can of xxmaj xxunk 's xxunk soup</td>\n",
       "      <td>NUM</td>\n",
       "    </tr>\n",
       "    <tr>\n",
       "      <td>xxbos xxmaj why was xxmaj henry xxmaj ford 's first automobile xxunk xxmaj model t &amp; his second type of automobile , introduced in xxunk , called a xxmaj model a</td>\n",
       "      <td>DESC</td>\n",
       "    </tr>\n",
       "    <tr>\n",
       "      <td>xxbos xxmaj in what sport are these following numbers xxunk : xxunk , xxunk , xxunk , xxunk , 15 , xxunk , xxunk , xxunk , and 19</td>\n",
       "      <td>ENTY</td>\n",
       "    </tr>\n",
       "    <tr>\n",
       "      <td>xxbos xxmaj who sang the song ` ` xxmaj xxunk on a xxmaj xxunk '' in the xxunk baby xxunk of ` ` xxmaj xxunk xxmaj xxunk ''</td>\n",
       "      <td>HUM</td>\n",
       "    </tr>\n",
       "  </tbody>\n",
       "</table>"
      ],
      "text/plain": [
       "<IPython.core.display.HTML object>"
      ]
     },
     "metadata": {},
     "output_type": "display_data"
    }
   ],
   "source": [
    "# Example of a batch\n",
    "databunch_classifier.show_batch()"
   ]
  },
  {
   "cell_type": "code",
   "execution_count": 20,
   "metadata": {},
   "outputs": [
    {
     "data": {
      "text/html": [],
      "text/plain": [
       "<IPython.core.display.HTML object>"
      ]
     },
     "metadata": {},
     "output_type": "display_data"
    },
    {
     "name": "stdout",
     "output_type": "stream",
     "text": [
      "LR Finder is complete, type {learner_name}.recorder.plot() to see the graph.\n",
      "Min numerical gradient: 1.00E-01\n"
     ]
    },
    {
     "data": {
      "image/png": "[encoded data removed]",
      "text/plain": [
       "<Figure size 432x288 with 1 Axes>"
      ]
     },
     "metadata": {
      "needs_background": "light"
     },
     "output_type": "display_data"
    }
   ],
   "source": [
    "# Finding learning rate\n",
    "\n",
    "classifier_learner.lr_find()\n",
    "classifier_learner.recorder.plot(suggestion=True)"
   ]
  },
  {
   "cell_type": "code",
   "execution_count": 21,
   "metadata": {},
   "outputs": [
    {
     "data": {
      "text/html": [
       "Total time: 11:53 <p><table border=\"1\" class=\"dataframe\">\n",
       "  <thead>\n",
       "    <tr style=\"text-align: left;\">\n",
       "      <th>epoch</th>\n",
       "      <th>train_loss</th>\n",
       "      <th>valid_loss</th>\n",
       "      <th>accuracy</th>\n",
       "      <th>time</th>\n",
       "    </tr>\n",
       "  </thead>\n",
       "  <tbody>\n",
       "    <tr>\n",
       "      <td>0</td>\n",
       "      <td>1.341172</td>\n",
       "      <td>1.611559</td>\n",
       "      <td>0.360000</td>\n",
       "      <td>11:53</td>\n",
       "    </tr>\n",
       "  </tbody>\n",
       "</table>"
      ],
      "text/plain": [
       "<IPython.core.display.HTML object>"
      ]
     },
     "metadata": {},
     "output_type": "display_data"
    }
   ],
   "source": [
    "# Training only last layer\n",
    "classifier_learner.fit_one_cycle(1, 1e-2)"
   ]
  },
  {
   "cell_type": "code",
   "execution_count": 22,
   "metadata": {},
   "outputs": [
    {
     "data": {
      "text/html": [],
      "text/plain": [
       "<IPython.core.display.HTML object>"
      ]
     },
     "metadata": {},
     "output_type": "display_data"
    },
    {
     "name": "stdout",
     "output_type": "stream",
     "text": [
      "LR Finder is complete, type {learner_name}.recorder.plot() to see the graph.\n",
      "Min numerical gradient: 9.12E-07\n"
     ]
    },
    {
     "data": {
      "image/png": "[encoded data removed]",
      "text/plain": [
       "<Figure size 432x288 with 1 Axes>"
      ]
     },
     "metadata": {
      "needs_background": "light"
     },
     "output_type": "display_data"
    }
   ],
   "source": [
    "# Finding the best learning rate when unfreezed\n",
    "\n",
    "classifier_learner.unfreeze()\n",
    "classifier_learner.lr_find()\n",
    "classifier_learner.recorder.plot(suggestion=True)"
   ]
  },
  {
   "cell_type": "code",
   "execution_count": 23,
   "metadata": {},
   "outputs": [
    {
     "data": {
      "text/html": [
       "Total time: 1:58:05 <p><table border=\"1\" class=\"dataframe\">\n",
       "  <thead>\n",
       "    <tr style=\"text-align: left;\">\n",
       "      <th>epoch</th>\n",
       "      <th>train_loss</th>\n",
       "      <th>valid_loss</th>\n",
       "      <th>accuracy</th>\n",
       "      <th>time</th>\n",
       "    </tr>\n",
       "  </thead>\n",
       "  <tbody>\n",
       "    <tr>\n",
       "      <td>0</td>\n",
       "      <td>1.277769</td>\n",
       "      <td>1.476677</td>\n",
       "      <td>0.408000</td>\n",
       "      <td>19:24</td>\n",
       "    </tr>\n",
       "    <tr>\n",
       "      <td>1</td>\n",
       "      <td>1.211278</td>\n",
       "      <td>1.306957</td>\n",
       "      <td>0.448000</td>\n",
       "      <td>22:08</td>\n",
       "    </tr>\n",
       "    <tr>\n",
       "      <td>2</td>\n",
       "      <td>1.106010</td>\n",
       "      <td>1.271583</td>\n",
       "      <td>0.468000</td>\n",
       "      <td>26:02</td>\n",
       "    </tr>\n",
       "    <tr>\n",
       "      <td>3</td>\n",
       "      <td>1.098465</td>\n",
       "      <td>1.234933</td>\n",
       "      <td>0.488000</td>\n",
       "      <td>24:32</td>\n",
       "    </tr>\n",
       "    <tr>\n",
       "      <td>4</td>\n",
       "      <td>1.027760</td>\n",
       "      <td>1.233011</td>\n",
       "      <td>0.470000</td>\n",
       "      <td>25:57</td>\n",
       "    </tr>\n",
       "  </tbody>\n",
       "</table>"
      ],
      "text/plain": [
       "<IPython.core.display.HTML object>"
      ]
     },
     "metadata": {},
     "output_type": "display_data"
    }
   ],
   "source": [
    "classifier_learner.unfreeze()\n",
    "classifier_learner.fit_one_cycle(5, slice(1e-7, 1e-5))"
   ]
  },
  {
   "cell_type": "code",
   "execution_count": 24,
   "metadata": {},
   "outputs": [],
   "source": [
    "classifier_learner.export('classifier_transformer')"
   ]
  },
  {
   "cell_type": "code",
   "execution_count": 25,
   "metadata": {},
   "outputs": [
    {
     "ename": "TypeError",
     "evalue": "unsupported operand type(s) for /: 'str' and 'str'",
     "output_type": "error",
     "traceback": [
      "\u001b[0;31m---------------------------------------------------------------------------\u001b[0m",
      "\u001b[0;31mTypeError\u001b[0m                                 Traceback (most recent call last)",
      "\u001b[0;32m<ipython-input-25-81b294cd9e4b>\u001b[0m in \u001b[0;36m<module>\u001b[0;34m\u001b[0m\n\u001b[0;32m----> 1\u001b[0;31m \u001b[0mclassifier_learner\u001b[0m \u001b[0;34m=\u001b[0m \u001b[0mload_learner\u001b[0m\u001b[0;34m(\u001b[0m\u001b[0mDATA_PATH\u001b[0m\u001b[0;34m/\u001b[0m\u001b[0;34m'clasifier_transformer'\u001b[0m\u001b[0;34m)\u001b[0m\u001b[0;34m\u001b[0m\u001b[0;34m\u001b[0m\u001b[0m\n\u001b[0m",
      "\u001b[0;31mTypeError\u001b[0m: unsupported operand type(s) for /: 'str' and 'str'"
     ]
    }
   ],
   "source": [
    "classifier_learner = load_learner(DATA_PATH/'clasifier_transformer')"
   ]
  },
  {
   "cell_type": "code",
   "execution_count": null,
   "metadata": {},
   "outputs": [],
   "source": [
    "classifier_learner.predict(\"How many players are in a football field?\")\n"
   ]
  }
 ],
 "metadata": {
  "kernelspec": {
   "display_name": "Python 3",
   "language": "python",
   "name": "python3"
  },
  "language_info": {
   "codemirror_mode": {
    "name": "ipython",
    "version": 3
   },
   "file_extension": ".py",
   "mimetype": "text/x-python",
   "name": "python",
   "nbconvert_exporter": "python",
   "pygments_lexer": "ipython3",
   "version": "3.7.3"
  }
 },
 "nbformat": 4,
 "nbformat_minor": 2
}
